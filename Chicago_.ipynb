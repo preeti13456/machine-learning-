{
  "nbformat": 4,
  "nbformat_minor": 0,
  "metadata": {
    "kernelspec": {
      "display_name": "Python 3",
      "language": "python",
      "name": "python3"
    },
    "language_info": {
      "codemirror_mode": {
        "name": "ipython",
        "version": 3
      },
      "file_extension": ".py",
      "mimetype": "text/x-python",
      "name": "python",
      "nbconvert_exporter": "python",
      "pygments_lexer": "ipython3",
      "version": "3.7.6"
    },
    "colab": {
      "name": "Chicago .ipynb",
      "provenance": [],
      "machine_shape": "hm",
      "include_colab_link": true
    }
  },
  "cells": [
    {
      "cell_type": "markdown",
      "metadata": {
        "id": "view-in-github",
        "colab_type": "text"
      },
      "source": [
        "<a href=\"https://colab.research.google.com/github/preeti13456/machine-learning-/blob/master/Chicago_.ipynb\" target=\"_parent\"><img src=\"https://colab.research.google.com/assets/colab-badge.svg\" alt=\"Open In Colab\"/></a>"
      ]
    },
    {
      "cell_type": "code",
      "metadata": {
        "id": "-ViaQbA-Wd8o",
        "colab_type": "code",
        "colab": {}
      },
      "source": [
        "import math, time, random, datetime\n",
        "\n",
        "# Data Manipulation\n",
        "import numpy as np\n",
        "import pandas as pd\n",
        "\n",
        "# Visualization \n",
        "import matplotlib.pyplot as plt\n",
        "\n",
        "import seaborn as sns\n",
        "plt.style.use('seaborn-whitegrid')\n",
        "from datetime import datetime\n",
        "\n",
        "# Preprocessing\n",
        "from sklearn.preprocessing import OneHotEncoder, LabelEncoder, label_binarize\n",
        "\n",
        "# Machine learning\n",
        "\n",
        "from sklearn.model_selection import train_test_split\n",
        "from sklearn import model_selection, tree, preprocessing, metrics, linear_model\n",
        "from sklearn.svm import LinearSVC\n",
        "from sklearn.ensemble import GradientBoostingClassifier\n",
        "from sklearn.neighbors import KNeighborsClassifier\n",
        "from sklearn.naive_bayes import GaussianNB\n",
        "from sklearn.linear_model import LinearRegression, LogisticRegression, SGDClassifier\n",
        "from sklearn.tree import DecisionTreeClassifier\n",
        "\n",
        "\n",
        "# Let's be rebels and ignore warnings for now\n",
        "import warnings\n",
        "warnings.filterwarnings('ignore')"
      ],
      "execution_count": 0,
      "outputs": []
    },
    {
      "cell_type": "code",
      "metadata": {
        "id": "h70zZ_4uWd8z",
        "colab_type": "code",
        "colab": {}
      },
      "source": [
        "df = pd.read_csv('/content/Chicago_Crime_Detective.csv')"
      ],
      "execution_count": 0,
      "outputs": []
    },
    {
      "cell_type": "code",
      "metadata": {
        "id": "UJ-mp_MlWd86",
        "colab_type": "code",
        "outputId": "2a481ec6-3d70-4c46-8411-957763da18b2",
        "colab": {
          "base_uri": "https://localhost:8080/",
          "height": 252
        }
      },
      "source": [
        "print(df)"
      ],
      "execution_count": 0,
      "outputs": [
        {
          "output_type": "stream",
          "text": [
            "        Unnamed: 0       ID            Date  ... District  CommunityArea  Year\n",
            "0                0  8951354  12/31/12 23:15  ...        6             69  2012\n",
            "1                1  8951141  12/31/12 22:00  ...       12             24  2012\n",
            "2                2  8952745  12/31/12 22:00  ...       16             11  2012\n",
            "3                3  8952223  12/31/12 22:00  ...        7             67  2012\n",
            "4                4  8951608  12/31/12 21:30  ...        2             35  2012\n",
            "...            ...      ...             ...  ...      ...            ...   ...\n",
            "191636      191636  1310068     1/1/01 0:05  ...      NaN            NaN  2001\n",
            "191637      191637  1313404     1/1/01 0:01  ...      NaN            NaN  2001\n",
            "191638      191638  1313442     1/1/01 0:01  ...      NaN            NaN  2001\n",
            "191639      191639  1563324     1/1/01 0:01  ...      NaN            NaN  2001\n",
            "191640      191640  1310463     1/1/01 0:01  ...      NaN            NaN  2001\n",
            "\n",
            "[191641 rows x 10 columns]\n"
          ],
          "name": "stdout"
        }
      ]
    },
    {
      "cell_type": "code",
      "metadata": {
        "id": "UFTyM76wWd9C",
        "colab_type": "code",
        "outputId": "23d6d024-6b45-486e-8717-c7c61d2068d3",
        "colab": {
          "base_uri": "https://localhost:8080/",
          "height": 195
        }
      },
      "source": [
        "df.head()"
      ],
      "execution_count": 0,
      "outputs": [
        {
          "output_type": "execute_result",
          "data": {
            "text/html": [
              "<div>\n",
              "<style scoped>\n",
              "    .dataframe tbody tr th:only-of-type {\n",
              "        vertical-align: middle;\n",
              "    }\n",
              "\n",
              "    .dataframe tbody tr th {\n",
              "        vertical-align: top;\n",
              "    }\n",
              "\n",
              "    .dataframe thead th {\n",
              "        text-align: right;\n",
              "    }\n",
              "</style>\n",
              "<table border=\"1\" class=\"dataframe\">\n",
              "  <thead>\n",
              "    <tr style=\"text-align: right;\">\n",
              "      <th></th>\n",
              "      <th>Unnamed: 0</th>\n",
              "      <th>ID</th>\n",
              "      <th>Date</th>\n",
              "      <th>LocationDescription</th>\n",
              "      <th>Arrest</th>\n",
              "      <th>Domestic</th>\n",
              "      <th>Beat</th>\n",
              "      <th>District</th>\n",
              "      <th>CommunityArea</th>\n",
              "      <th>Year</th>\n",
              "    </tr>\n",
              "  </thead>\n",
              "  <tbody>\n",
              "    <tr>\n",
              "      <th>0</th>\n",
              "      <td>0</td>\n",
              "      <td>8951354</td>\n",
              "      <td>12/31/12 23:15</td>\n",
              "      <td>STREET</td>\n",
              "      <td>False</td>\n",
              "      <td>False</td>\n",
              "      <td>623</td>\n",
              "      <td>6</td>\n",
              "      <td>69</td>\n",
              "      <td>2012</td>\n",
              "    </tr>\n",
              "    <tr>\n",
              "      <th>1</th>\n",
              "      <td>1</td>\n",
              "      <td>8951141</td>\n",
              "      <td>12/31/12 22:00</td>\n",
              "      <td>STREET</td>\n",
              "      <td>False</td>\n",
              "      <td>False</td>\n",
              "      <td>1213</td>\n",
              "      <td>12</td>\n",
              "      <td>24</td>\n",
              "      <td>2012</td>\n",
              "    </tr>\n",
              "    <tr>\n",
              "      <th>2</th>\n",
              "      <td>2</td>\n",
              "      <td>8952745</td>\n",
              "      <td>12/31/12 22:00</td>\n",
              "      <td>RESIDENTIAL YARD (FRONT/BACK)</td>\n",
              "      <td>False</td>\n",
              "      <td>False</td>\n",
              "      <td>1622</td>\n",
              "      <td>16</td>\n",
              "      <td>11</td>\n",
              "      <td>2012</td>\n",
              "    </tr>\n",
              "    <tr>\n",
              "      <th>3</th>\n",
              "      <td>3</td>\n",
              "      <td>8952223</td>\n",
              "      <td>12/31/12 22:00</td>\n",
              "      <td>STREET</td>\n",
              "      <td>False</td>\n",
              "      <td>False</td>\n",
              "      <td>724</td>\n",
              "      <td>7</td>\n",
              "      <td>67</td>\n",
              "      <td>2012</td>\n",
              "    </tr>\n",
              "    <tr>\n",
              "      <th>4</th>\n",
              "      <td>4</td>\n",
              "      <td>8951608</td>\n",
              "      <td>12/31/12 21:30</td>\n",
              "      <td>STREET</td>\n",
              "      <td>False</td>\n",
              "      <td>False</td>\n",
              "      <td>211</td>\n",
              "      <td>2</td>\n",
              "      <td>35</td>\n",
              "      <td>2012</td>\n",
              "    </tr>\n",
              "  </tbody>\n",
              "</table>\n",
              "</div>"
            ],
            "text/plain": [
              "   Unnamed: 0       ID            Date  ... District  CommunityArea  Year\n",
              "0           0  8951354  12/31/12 23:15  ...        6             69  2012\n",
              "1           1  8951141  12/31/12 22:00  ...       12             24  2012\n",
              "2           2  8952745  12/31/12 22:00  ...       16             11  2012\n",
              "3           3  8952223  12/31/12 22:00  ...        7             67  2012\n",
              "4           4  8951608  12/31/12 21:30  ...        2             35  2012\n",
              "\n",
              "[5 rows x 10 columns]"
            ]
          },
          "metadata": {
            "tags": []
          },
          "execution_count": 86
        }
      ]
    },
    {
      "cell_type": "code",
      "metadata": {
        "id": "nbyGY74zWd9K",
        "colab_type": "code",
        "outputId": "91327916-163e-4932-a5a5-ba67f050dcfe",
        "colab": {
          "base_uri": "https://localhost:8080/",
          "height": 284
        }
      },
      "source": [
        "df.describe()"
      ],
      "execution_count": 0,
      "outputs": [
        {
          "output_type": "execute_result",
          "data": {
            "text/html": [
              "<div>\n",
              "<style scoped>\n",
              "    .dataframe tbody tr th:only-of-type {\n",
              "        vertical-align: middle;\n",
              "    }\n",
              "\n",
              "    .dataframe tbody tr th {\n",
              "        vertical-align: top;\n",
              "    }\n",
              "\n",
              "    .dataframe thead th {\n",
              "        text-align: right;\n",
              "    }\n",
              "</style>\n",
              "<table border=\"1\" class=\"dataframe\">\n",
              "  <thead>\n",
              "    <tr style=\"text-align: right;\">\n",
              "      <th></th>\n",
              "      <th>Unnamed: 0</th>\n",
              "      <th>ID</th>\n",
              "      <th>Beat</th>\n",
              "      <th>Year</th>\n",
              "    </tr>\n",
              "  </thead>\n",
              "  <tbody>\n",
              "    <tr>\n",
              "      <th>count</th>\n",
              "      <td>191641.000000</td>\n",
              "      <td>1.916410e+05</td>\n",
              "      <td>191641.000000</td>\n",
              "      <td>191641.000000</td>\n",
              "    </tr>\n",
              "    <tr>\n",
              "      <th>mean</th>\n",
              "      <td>95820.000000</td>\n",
              "      <td>4.968629e+06</td>\n",
              "      <td>1258.810771</td>\n",
              "      <td>2006.134940</td>\n",
              "    </tr>\n",
              "    <tr>\n",
              "      <th>std</th>\n",
              "      <td>55322.135806</td>\n",
              "      <td>2.342997e+06</td>\n",
              "      <td>702.530465</td>\n",
              "      <td>3.520285</td>\n",
              "    </tr>\n",
              "    <tr>\n",
              "      <th>min</th>\n",
              "      <td>0.000000</td>\n",
              "      <td>1.310022e+06</td>\n",
              "      <td>111.000000</td>\n",
              "      <td>2001.000000</td>\n",
              "    </tr>\n",
              "    <tr>\n",
              "      <th>25%</th>\n",
              "      <td>47910.000000</td>\n",
              "      <td>2.832144e+06</td>\n",
              "      <td>722.000000</td>\n",
              "      <td>2003.000000</td>\n",
              "    </tr>\n",
              "    <tr>\n",
              "      <th>50%</th>\n",
              "      <td>95820.000000</td>\n",
              "      <td>4.762956e+06</td>\n",
              "      <td>1121.000000</td>\n",
              "      <td>2006.000000</td>\n",
              "    </tr>\n",
              "    <tr>\n",
              "      <th>75%</th>\n",
              "      <td>143730.000000</td>\n",
              "      <td>7.201878e+06</td>\n",
              "      <td>1733.000000</td>\n",
              "      <td>2009.000000</td>\n",
              "    </tr>\n",
              "    <tr>\n",
              "      <th>max</th>\n",
              "      <td>191640.000000</td>\n",
              "      <td>9.181151e+06</td>\n",
              "      <td>2535.000000</td>\n",
              "      <td>2012.000000</td>\n",
              "    </tr>\n",
              "  </tbody>\n",
              "</table>\n",
              "</div>"
            ],
            "text/plain": [
              "          Unnamed: 0            ID           Beat           Year\n",
              "count  191641.000000  1.916410e+05  191641.000000  191641.000000\n",
              "mean    95820.000000  4.968629e+06    1258.810771    2006.134940\n",
              "std     55322.135806  2.342997e+06     702.530465       3.520285\n",
              "min         0.000000  1.310022e+06     111.000000    2001.000000\n",
              "25%     47910.000000  2.832144e+06     722.000000    2003.000000\n",
              "50%     95820.000000  4.762956e+06    1121.000000    2006.000000\n",
              "75%    143730.000000  7.201878e+06    1733.000000    2009.000000\n",
              "max    191640.000000  9.181151e+06    2535.000000    2012.000000"
            ]
          },
          "metadata": {
            "tags": []
          },
          "execution_count": 87
        }
      ]
    },
    {
      "cell_type": "code",
      "metadata": {
        "id": "Dog2T2bUWd9Q",
        "colab_type": "code",
        "outputId": "a5459f16-c5dd-4330-b47e-ae986504ff43",
        "colab": {
          "base_uri": "https://localhost:8080/",
          "height": 402
        }
      },
      "source": [
        "df.dropna()"
      ],
      "execution_count": 0,
      "outputs": [
        {
          "output_type": "execute_result",
          "data": {
            "text/html": [
              "<div>\n",
              "<style scoped>\n",
              "    .dataframe tbody tr th:only-of-type {\n",
              "        vertical-align: middle;\n",
              "    }\n",
              "\n",
              "    .dataframe tbody tr th {\n",
              "        vertical-align: top;\n",
              "    }\n",
              "\n",
              "    .dataframe thead th {\n",
              "        text-align: right;\n",
              "    }\n",
              "</style>\n",
              "<table border=\"1\" class=\"dataframe\">\n",
              "  <thead>\n",
              "    <tr style=\"text-align: right;\">\n",
              "      <th></th>\n",
              "      <th>Unnamed: 0</th>\n",
              "      <th>ID</th>\n",
              "      <th>Date</th>\n",
              "      <th>LocationDescription</th>\n",
              "      <th>Arrest</th>\n",
              "      <th>Domestic</th>\n",
              "      <th>Beat</th>\n",
              "      <th>District</th>\n",
              "      <th>CommunityArea</th>\n",
              "      <th>Year</th>\n",
              "    </tr>\n",
              "  </thead>\n",
              "  <tbody>\n",
              "    <tr>\n",
              "      <th>0</th>\n",
              "      <td>0</td>\n",
              "      <td>8951354</td>\n",
              "      <td>12/31/12 23:15</td>\n",
              "      <td>STREET</td>\n",
              "      <td>False</td>\n",
              "      <td>False</td>\n",
              "      <td>623</td>\n",
              "      <td>6</td>\n",
              "      <td>69</td>\n",
              "      <td>2012</td>\n",
              "    </tr>\n",
              "    <tr>\n",
              "      <th>1</th>\n",
              "      <td>1</td>\n",
              "      <td>8951141</td>\n",
              "      <td>12/31/12 22:00</td>\n",
              "      <td>STREET</td>\n",
              "      <td>False</td>\n",
              "      <td>False</td>\n",
              "      <td>1213</td>\n",
              "      <td>12</td>\n",
              "      <td>24</td>\n",
              "      <td>2012</td>\n",
              "    </tr>\n",
              "    <tr>\n",
              "      <th>2</th>\n",
              "      <td>2</td>\n",
              "      <td>8952745</td>\n",
              "      <td>12/31/12 22:00</td>\n",
              "      <td>RESIDENTIAL YARD (FRONT/BACK)</td>\n",
              "      <td>False</td>\n",
              "      <td>False</td>\n",
              "      <td>1622</td>\n",
              "      <td>16</td>\n",
              "      <td>11</td>\n",
              "      <td>2012</td>\n",
              "    </tr>\n",
              "    <tr>\n",
              "      <th>3</th>\n",
              "      <td>3</td>\n",
              "      <td>8952223</td>\n",
              "      <td>12/31/12 22:00</td>\n",
              "      <td>STREET</td>\n",
              "      <td>False</td>\n",
              "      <td>False</td>\n",
              "      <td>724</td>\n",
              "      <td>7</td>\n",
              "      <td>67</td>\n",
              "      <td>2012</td>\n",
              "    </tr>\n",
              "    <tr>\n",
              "      <th>4</th>\n",
              "      <td>4</td>\n",
              "      <td>8951608</td>\n",
              "      <td>12/31/12 21:30</td>\n",
              "      <td>STREET</td>\n",
              "      <td>False</td>\n",
              "      <td>False</td>\n",
              "      <td>211</td>\n",
              "      <td>2</td>\n",
              "      <td>35</td>\n",
              "      <td>2012</td>\n",
              "    </tr>\n",
              "    <tr>\n",
              "      <th>...</th>\n",
              "      <td>...</td>\n",
              "      <td>...</td>\n",
              "      <td>...</td>\n",
              "      <td>...</td>\n",
              "      <td>...</td>\n",
              "      <td>...</td>\n",
              "      <td>...</td>\n",
              "      <td>...</td>\n",
              "      <td>...</td>\n",
              "      <td>...</td>\n",
              "    </tr>\n",
              "    <tr>\n",
              "      <th>190519</th>\n",
              "      <td>190519</td>\n",
              "      <td>1356371</td>\n",
              "      <td>1/24/01 5:00</td>\n",
              "      <td>CHA PARKING LOT/GROUNDS</td>\n",
              "      <td>False</td>\n",
              "      <td>False</td>\n",
              "      <td>533</td>\n",
              "      <td>5</td>\n",
              "      <td>54</td>\n",
              "      <td>2001</td>\n",
              "    </tr>\n",
              "    <tr>\n",
              "      <th>190816</th>\n",
              "      <td>190816</td>\n",
              "      <td>1339061</td>\n",
              "      <td>1/17/01 23:45</td>\n",
              "      <td>STREET</td>\n",
              "      <td>False</td>\n",
              "      <td>False</td>\n",
              "      <td>613</td>\n",
              "      <td>6</td>\n",
              "      <td>71</td>\n",
              "      <td>2001</td>\n",
              "    </tr>\n",
              "    <tr>\n",
              "      <th>191406</th>\n",
              "      <td>191406</td>\n",
              "      <td>1318415</td>\n",
              "      <td>1/5/01 13:00</td>\n",
              "      <td>PARKING LOT/GARAGE(NON.RESID.)</td>\n",
              "      <td>False</td>\n",
              "      <td>False</td>\n",
              "      <td>1614</td>\n",
              "      <td>16</td>\n",
              "      <td>76</td>\n",
              "      <td>2001</td>\n",
              "    </tr>\n",
              "    <tr>\n",
              "      <th>191408</th>\n",
              "      <td>191408</td>\n",
              "      <td>1322018</td>\n",
              "      <td>1/5/01 12:00</td>\n",
              "      <td>STREET</td>\n",
              "      <td>False</td>\n",
              "      <td>False</td>\n",
              "      <td>1712</td>\n",
              "      <td>17</td>\n",
              "      <td>13</td>\n",
              "      <td>2001</td>\n",
              "    </tr>\n",
              "    <tr>\n",
              "      <th>191605</th>\n",
              "      <td>191605</td>\n",
              "      <td>1310988</td>\n",
              "      <td>1/1/01 17:00</td>\n",
              "      <td>STREET</td>\n",
              "      <td>False</td>\n",
              "      <td>False</td>\n",
              "      <td>831</td>\n",
              "      <td>8</td>\n",
              "      <td>66</td>\n",
              "      <td>2001</td>\n",
              "    </tr>\n",
              "  </tbody>\n",
              "</table>\n",
              "<p>148587 rows × 10 columns</p>\n",
              "</div>"
            ],
            "text/plain": [
              "        Unnamed: 0       ID            Date  ... District  CommunityArea  Year\n",
              "0                0  8951354  12/31/12 23:15  ...        6             69  2012\n",
              "1                1  8951141  12/31/12 22:00  ...       12             24  2012\n",
              "2                2  8952745  12/31/12 22:00  ...       16             11  2012\n",
              "3                3  8952223  12/31/12 22:00  ...        7             67  2012\n",
              "4                4  8951608  12/31/12 21:30  ...        2             35  2012\n",
              "...            ...      ...             ...  ...      ...            ...   ...\n",
              "190519      190519  1356371    1/24/01 5:00  ...        5             54  2001\n",
              "190816      190816  1339061   1/17/01 23:45  ...        6             71  2001\n",
              "191406      191406  1318415    1/5/01 13:00  ...       16             76  2001\n",
              "191408      191408  1322018    1/5/01 12:00  ...       17             13  2001\n",
              "191605      191605  1310988    1/1/01 17:00  ...        8             66  2001\n",
              "\n",
              "[148587 rows x 10 columns]"
            ]
          },
          "metadata": {
            "tags": []
          },
          "execution_count": 88
        }
      ]
    },
    {
      "cell_type": "code",
      "metadata": {
        "id": "gukRRNUyWd9X",
        "colab_type": "code",
        "outputId": "a0870767-ee49-495e-e943-d8de23f227d9",
        "colab": {
          "base_uri": "https://localhost:8080/",
          "height": 134
        }
      },
      "source": [
        "df.median()"
      ],
      "execution_count": 0,
      "outputs": [
        {
          "output_type": "execute_result",
          "data": {
            "text/plain": [
              "Unnamed: 0      95820.0\n",
              "ID            4762956.0\n",
              "Arrest              0.0\n",
              "Domestic            0.0\n",
              "Beat             1121.0\n",
              "Year             2006.0\n",
              "dtype: float64"
            ]
          },
          "metadata": {
            "tags": []
          },
          "execution_count": 89
        }
      ]
    },
    {
      "cell_type": "code",
      "metadata": {
        "id": "oHbLWRcLWd9f",
        "colab_type": "code",
        "outputId": "8de4bb5f-d30b-473c-8b45-07acad533aaf",
        "colab": {
          "base_uri": "https://localhost:8080/",
          "height": 168
        }
      },
      "source": [
        "df.max()"
      ],
      "execution_count": 0,
      "outputs": [
        {
          "output_type": "execute_result",
          "data": {
            "text/plain": [
              "Unnamed: 0                  191640\n",
              "ID                         9181151\n",
              "Date                   9/9/12 9:50\n",
              "LocationDescription      WAREHOUSE\n",
              "Arrest                        True\n",
              "Domestic                      True\n",
              "Beat                          2535\n",
              "Year                          2012\n",
              "dtype: object"
            ]
          },
          "metadata": {
            "tags": []
          },
          "execution_count": 90
        }
      ]
    },
    {
      "cell_type": "code",
      "metadata": {
        "id": "ml0w8IPxWd9k",
        "colab_type": "code",
        "outputId": "bb120fca-c760-406f-adb0-b76eda774cc4",
        "colab": {
          "base_uri": "https://localhost:8080/",
          "height": 402
        }
      },
      "source": [
        "df.mode()"
      ],
      "execution_count": 0,
      "outputs": [
        {
          "output_type": "execute_result",
          "data": {
            "text/html": [
              "<div>\n",
              "<style scoped>\n",
              "    .dataframe tbody tr th:only-of-type {\n",
              "        vertical-align: middle;\n",
              "    }\n",
              "\n",
              "    .dataframe tbody tr th {\n",
              "        vertical-align: top;\n",
              "    }\n",
              "\n",
              "    .dataframe thead th {\n",
              "        text-align: right;\n",
              "    }\n",
              "</style>\n",
              "<table border=\"1\" class=\"dataframe\">\n",
              "  <thead>\n",
              "    <tr style=\"text-align: right;\">\n",
              "      <th></th>\n",
              "      <th>Unnamed: 0</th>\n",
              "      <th>ID</th>\n",
              "      <th>Date</th>\n",
              "      <th>LocationDescription</th>\n",
              "      <th>Arrest</th>\n",
              "      <th>Domestic</th>\n",
              "      <th>Beat</th>\n",
              "      <th>District</th>\n",
              "      <th>CommunityArea</th>\n",
              "      <th>Year</th>\n",
              "    </tr>\n",
              "  </thead>\n",
              "  <tbody>\n",
              "    <tr>\n",
              "      <th>0</th>\n",
              "      <td>0</td>\n",
              "      <td>1310022</td>\n",
              "      <td>5/16/08 0:00</td>\n",
              "      <td>STREET</td>\n",
              "      <td>False</td>\n",
              "      <td>False</td>\n",
              "      <td>2512.0</td>\n",
              "      <td>8</td>\n",
              "      <td>25</td>\n",
              "      <td>2001.0</td>\n",
              "    </tr>\n",
              "    <tr>\n",
              "      <th>1</th>\n",
              "      <td>1</td>\n",
              "      <td>1310068</td>\n",
              "      <td>NaN</td>\n",
              "      <td>NaN</td>\n",
              "      <td>NaN</td>\n",
              "      <td>NaN</td>\n",
              "      <td>NaN</td>\n",
              "      <td>NaN</td>\n",
              "      <td>NaN</td>\n",
              "      <td>NaN</td>\n",
              "    </tr>\n",
              "    <tr>\n",
              "      <th>2</th>\n",
              "      <td>2</td>\n",
              "      <td>1310446</td>\n",
              "      <td>NaN</td>\n",
              "      <td>NaN</td>\n",
              "      <td>NaN</td>\n",
              "      <td>NaN</td>\n",
              "      <td>NaN</td>\n",
              "      <td>NaN</td>\n",
              "      <td>NaN</td>\n",
              "      <td>NaN</td>\n",
              "    </tr>\n",
              "    <tr>\n",
              "      <th>3</th>\n",
              "      <td>3</td>\n",
              "      <td>1310455</td>\n",
              "      <td>NaN</td>\n",
              "      <td>NaN</td>\n",
              "      <td>NaN</td>\n",
              "      <td>NaN</td>\n",
              "      <td>NaN</td>\n",
              "      <td>NaN</td>\n",
              "      <td>NaN</td>\n",
              "      <td>NaN</td>\n",
              "    </tr>\n",
              "    <tr>\n",
              "      <th>4</th>\n",
              "      <td>4</td>\n",
              "      <td>1310463</td>\n",
              "      <td>NaN</td>\n",
              "      <td>NaN</td>\n",
              "      <td>NaN</td>\n",
              "      <td>NaN</td>\n",
              "      <td>NaN</td>\n",
              "      <td>NaN</td>\n",
              "      <td>NaN</td>\n",
              "      <td>NaN</td>\n",
              "    </tr>\n",
              "    <tr>\n",
              "      <th>...</th>\n",
              "      <td>...</td>\n",
              "      <td>...</td>\n",
              "      <td>...</td>\n",
              "      <td>...</td>\n",
              "      <td>...</td>\n",
              "      <td>...</td>\n",
              "      <td>...</td>\n",
              "      <td>...</td>\n",
              "      <td>...</td>\n",
              "      <td>...</td>\n",
              "    </tr>\n",
              "    <tr>\n",
              "      <th>191636</th>\n",
              "      <td>191636</td>\n",
              "      <td>9163509</td>\n",
              "      <td>NaN</td>\n",
              "      <td>NaN</td>\n",
              "      <td>NaN</td>\n",
              "      <td>NaN</td>\n",
              "      <td>NaN</td>\n",
              "      <td>NaN</td>\n",
              "      <td>NaN</td>\n",
              "      <td>NaN</td>\n",
              "    </tr>\n",
              "    <tr>\n",
              "      <th>191637</th>\n",
              "      <td>191637</td>\n",
              "      <td>9166887</td>\n",
              "      <td>NaN</td>\n",
              "      <td>NaN</td>\n",
              "      <td>NaN</td>\n",
              "      <td>NaN</td>\n",
              "      <td>NaN</td>\n",
              "      <td>NaN</td>\n",
              "      <td>NaN</td>\n",
              "      <td>NaN</td>\n",
              "    </tr>\n",
              "    <tr>\n",
              "      <th>191638</th>\n",
              "      <td>191638</td>\n",
              "      <td>9169981</td>\n",
              "      <td>NaN</td>\n",
              "      <td>NaN</td>\n",
              "      <td>NaN</td>\n",
              "      <td>NaN</td>\n",
              "      <td>NaN</td>\n",
              "      <td>NaN</td>\n",
              "      <td>NaN</td>\n",
              "      <td>NaN</td>\n",
              "    </tr>\n",
              "    <tr>\n",
              "      <th>191639</th>\n",
              "      <td>191639</td>\n",
              "      <td>9179108</td>\n",
              "      <td>NaN</td>\n",
              "      <td>NaN</td>\n",
              "      <td>NaN</td>\n",
              "      <td>NaN</td>\n",
              "      <td>NaN</td>\n",
              "      <td>NaN</td>\n",
              "      <td>NaN</td>\n",
              "      <td>NaN</td>\n",
              "    </tr>\n",
              "    <tr>\n",
              "      <th>191640</th>\n",
              "      <td>191640</td>\n",
              "      <td>9181151</td>\n",
              "      <td>NaN</td>\n",
              "      <td>NaN</td>\n",
              "      <td>NaN</td>\n",
              "      <td>NaN</td>\n",
              "      <td>NaN</td>\n",
              "      <td>NaN</td>\n",
              "      <td>NaN</td>\n",
              "      <td>NaN</td>\n",
              "    </tr>\n",
              "  </tbody>\n",
              "</table>\n",
              "<p>191641 rows × 10 columns</p>\n",
              "</div>"
            ],
            "text/plain": [
              "        Unnamed: 0       ID          Date  ... District CommunityArea    Year\n",
              "0                0  1310022  5/16/08 0:00  ...        8            25  2001.0\n",
              "1                1  1310068           NaN  ...      NaN           NaN     NaN\n",
              "2                2  1310446           NaN  ...      NaN           NaN     NaN\n",
              "3                3  1310455           NaN  ...      NaN           NaN     NaN\n",
              "4                4  1310463           NaN  ...      NaN           NaN     NaN\n",
              "...            ...      ...           ...  ...      ...           ...     ...\n",
              "191636      191636  9163509           NaN  ...      NaN           NaN     NaN\n",
              "191637      191637  9166887           NaN  ...      NaN           NaN     NaN\n",
              "191638      191638  9169981           NaN  ...      NaN           NaN     NaN\n",
              "191639      191639  9179108           NaN  ...      NaN           NaN     NaN\n",
              "191640      191640  9181151           NaN  ...      NaN           NaN     NaN\n",
              "\n",
              "[191641 rows x 10 columns]"
            ]
          },
          "metadata": {
            "tags": []
          },
          "execution_count": 91
        }
      ]
    },
    {
      "cell_type": "code",
      "metadata": {
        "id": "pDjisoCfWd9s",
        "colab_type": "code",
        "outputId": "3f0aef52-7f7d-4bbc-a66a-d8942c77bab5",
        "colab": {
          "base_uri": "https://localhost:8080/",
          "height": 134
        }
      },
      "source": [
        "df.mean()"
      ],
      "execution_count": 0,
      "outputs": [
        {
          "output_type": "execute_result",
          "data": {
            "text/plain": [
              "Unnamed: 0    9.582000e+04\n",
              "ID            4.968629e+06\n",
              "Arrest        8.106825e-02\n",
              "Domestic      2.165507e-03\n",
              "Beat          1.258811e+03\n",
              "Year          2.006135e+03\n",
              "dtype: float64"
            ]
          },
          "metadata": {
            "tags": []
          },
          "execution_count": 92
        }
      ]
    },
    {
      "cell_type": "code",
      "metadata": {
        "id": "YSzBJylFWd9x",
        "colab_type": "code",
        "outputId": "cbf7cf47-cca4-4dd2-8527-6a63e40c157e",
        "colab": {
          "base_uri": "https://localhost:8080/",
          "height": 168
        }
      },
      "source": [
        "df.min()"
      ],
      "execution_count": 0,
      "outputs": [
        {
          "output_type": "execute_result",
          "data": {
            "text/plain": [
              "Unnamed: 0                              0\n",
              "ID                                1310022\n",
              "Date                          1/1/01 0:01\n",
              "LocationDescription    ABANDONED BUILDING\n",
              "Arrest                              False\n",
              "Domestic                            False\n",
              "Beat                                  111\n",
              "Year                                 2001\n",
              "dtype: object"
            ]
          },
          "metadata": {
            "tags": []
          },
          "execution_count": 93
        }
      ]
    },
    {
      "cell_type": "code",
      "metadata": {
        "id": "M1zGDR5sWd91",
        "colab_type": "code",
        "outputId": "82926d99-af8b-4bbc-9e1a-f5644ae7595a",
        "colab": {
          "base_uri": "https://localhost:8080/",
          "height": 402
        }
      },
      "source": [
        "df.dropna()"
      ],
      "execution_count": 0,
      "outputs": [
        {
          "output_type": "execute_result",
          "data": {
            "text/html": [
              "<div>\n",
              "<style scoped>\n",
              "    .dataframe tbody tr th:only-of-type {\n",
              "        vertical-align: middle;\n",
              "    }\n",
              "\n",
              "    .dataframe tbody tr th {\n",
              "        vertical-align: top;\n",
              "    }\n",
              "\n",
              "    .dataframe thead th {\n",
              "        text-align: right;\n",
              "    }\n",
              "</style>\n",
              "<table border=\"1\" class=\"dataframe\">\n",
              "  <thead>\n",
              "    <tr style=\"text-align: right;\">\n",
              "      <th></th>\n",
              "      <th>Unnamed: 0</th>\n",
              "      <th>ID</th>\n",
              "      <th>Date</th>\n",
              "      <th>LocationDescription</th>\n",
              "      <th>Arrest</th>\n",
              "      <th>Domestic</th>\n",
              "      <th>Beat</th>\n",
              "      <th>District</th>\n",
              "      <th>CommunityArea</th>\n",
              "      <th>Year</th>\n",
              "    </tr>\n",
              "  </thead>\n",
              "  <tbody>\n",
              "    <tr>\n",
              "      <th>0</th>\n",
              "      <td>0</td>\n",
              "      <td>8951354</td>\n",
              "      <td>12/31/12 23:15</td>\n",
              "      <td>STREET</td>\n",
              "      <td>False</td>\n",
              "      <td>False</td>\n",
              "      <td>623</td>\n",
              "      <td>6</td>\n",
              "      <td>69</td>\n",
              "      <td>2012</td>\n",
              "    </tr>\n",
              "    <tr>\n",
              "      <th>1</th>\n",
              "      <td>1</td>\n",
              "      <td>8951141</td>\n",
              "      <td>12/31/12 22:00</td>\n",
              "      <td>STREET</td>\n",
              "      <td>False</td>\n",
              "      <td>False</td>\n",
              "      <td>1213</td>\n",
              "      <td>12</td>\n",
              "      <td>24</td>\n",
              "      <td>2012</td>\n",
              "    </tr>\n",
              "    <tr>\n",
              "      <th>2</th>\n",
              "      <td>2</td>\n",
              "      <td>8952745</td>\n",
              "      <td>12/31/12 22:00</td>\n",
              "      <td>RESIDENTIAL YARD (FRONT/BACK)</td>\n",
              "      <td>False</td>\n",
              "      <td>False</td>\n",
              "      <td>1622</td>\n",
              "      <td>16</td>\n",
              "      <td>11</td>\n",
              "      <td>2012</td>\n",
              "    </tr>\n",
              "    <tr>\n",
              "      <th>3</th>\n",
              "      <td>3</td>\n",
              "      <td>8952223</td>\n",
              "      <td>12/31/12 22:00</td>\n",
              "      <td>STREET</td>\n",
              "      <td>False</td>\n",
              "      <td>False</td>\n",
              "      <td>724</td>\n",
              "      <td>7</td>\n",
              "      <td>67</td>\n",
              "      <td>2012</td>\n",
              "    </tr>\n",
              "    <tr>\n",
              "      <th>4</th>\n",
              "      <td>4</td>\n",
              "      <td>8951608</td>\n",
              "      <td>12/31/12 21:30</td>\n",
              "      <td>STREET</td>\n",
              "      <td>False</td>\n",
              "      <td>False</td>\n",
              "      <td>211</td>\n",
              "      <td>2</td>\n",
              "      <td>35</td>\n",
              "      <td>2012</td>\n",
              "    </tr>\n",
              "    <tr>\n",
              "      <th>...</th>\n",
              "      <td>...</td>\n",
              "      <td>...</td>\n",
              "      <td>...</td>\n",
              "      <td>...</td>\n",
              "      <td>...</td>\n",
              "      <td>...</td>\n",
              "      <td>...</td>\n",
              "      <td>...</td>\n",
              "      <td>...</td>\n",
              "      <td>...</td>\n",
              "    </tr>\n",
              "    <tr>\n",
              "      <th>190519</th>\n",
              "      <td>190519</td>\n",
              "      <td>1356371</td>\n",
              "      <td>1/24/01 5:00</td>\n",
              "      <td>CHA PARKING LOT/GROUNDS</td>\n",
              "      <td>False</td>\n",
              "      <td>False</td>\n",
              "      <td>533</td>\n",
              "      <td>5</td>\n",
              "      <td>54</td>\n",
              "      <td>2001</td>\n",
              "    </tr>\n",
              "    <tr>\n",
              "      <th>190816</th>\n",
              "      <td>190816</td>\n",
              "      <td>1339061</td>\n",
              "      <td>1/17/01 23:45</td>\n",
              "      <td>STREET</td>\n",
              "      <td>False</td>\n",
              "      <td>False</td>\n",
              "      <td>613</td>\n",
              "      <td>6</td>\n",
              "      <td>71</td>\n",
              "      <td>2001</td>\n",
              "    </tr>\n",
              "    <tr>\n",
              "      <th>191406</th>\n",
              "      <td>191406</td>\n",
              "      <td>1318415</td>\n",
              "      <td>1/5/01 13:00</td>\n",
              "      <td>PARKING LOT/GARAGE(NON.RESID.)</td>\n",
              "      <td>False</td>\n",
              "      <td>False</td>\n",
              "      <td>1614</td>\n",
              "      <td>16</td>\n",
              "      <td>76</td>\n",
              "      <td>2001</td>\n",
              "    </tr>\n",
              "    <tr>\n",
              "      <th>191408</th>\n",
              "      <td>191408</td>\n",
              "      <td>1322018</td>\n",
              "      <td>1/5/01 12:00</td>\n",
              "      <td>STREET</td>\n",
              "      <td>False</td>\n",
              "      <td>False</td>\n",
              "      <td>1712</td>\n",
              "      <td>17</td>\n",
              "      <td>13</td>\n",
              "      <td>2001</td>\n",
              "    </tr>\n",
              "    <tr>\n",
              "      <th>191605</th>\n",
              "      <td>191605</td>\n",
              "      <td>1310988</td>\n",
              "      <td>1/1/01 17:00</td>\n",
              "      <td>STREET</td>\n",
              "      <td>False</td>\n",
              "      <td>False</td>\n",
              "      <td>831</td>\n",
              "      <td>8</td>\n",
              "      <td>66</td>\n",
              "      <td>2001</td>\n",
              "    </tr>\n",
              "  </tbody>\n",
              "</table>\n",
              "<p>148587 rows × 10 columns</p>\n",
              "</div>"
            ],
            "text/plain": [
              "        Unnamed: 0       ID            Date  ... District  CommunityArea  Year\n",
              "0                0  8951354  12/31/12 23:15  ...        6             69  2012\n",
              "1                1  8951141  12/31/12 22:00  ...       12             24  2012\n",
              "2                2  8952745  12/31/12 22:00  ...       16             11  2012\n",
              "3                3  8952223  12/31/12 22:00  ...        7             67  2012\n",
              "4                4  8951608  12/31/12 21:30  ...        2             35  2012\n",
              "...            ...      ...             ...  ...      ...            ...   ...\n",
              "190519      190519  1356371    1/24/01 5:00  ...        5             54  2001\n",
              "190816      190816  1339061   1/17/01 23:45  ...        6             71  2001\n",
              "191406      191406  1318415    1/5/01 13:00  ...       16             76  2001\n",
              "191408      191408  1322018    1/5/01 12:00  ...       17             13  2001\n",
              "191605      191605  1310988    1/1/01 17:00  ...        8             66  2001\n",
              "\n",
              "[148587 rows x 10 columns]"
            ]
          },
          "metadata": {
            "tags": []
          },
          "execution_count": 94
        }
      ]
    },
    {
      "cell_type": "code",
      "metadata": {
        "id": "SKoW6ezZWd9_",
        "colab_type": "code",
        "colab": {}
      },
      "source": [
        "from datetime import datetime\n",
        "import datetime as dt"
      ],
      "execution_count": 0,
      "outputs": []
    },
    {
      "cell_type": "markdown",
      "metadata": {
        "id": "v_3prZg5Wd-D",
        "colab_type": "text"
      },
      "source": [
        "df.dtypes"
      ]
    },
    {
      "cell_type": "code",
      "metadata": {
        "id": "nei-qhXwWd-E",
        "colab_type": "code",
        "outputId": "c19305bf-1a9b-414d-b4a5-8d9ddc2b39c8",
        "colab": {
          "base_uri": "https://localhost:8080/",
          "height": 134
        }
      },
      "source": [
        "df.median()"
      ],
      "execution_count": 0,
      "outputs": [
        {
          "output_type": "execute_result",
          "data": {
            "text/plain": [
              "Unnamed: 0      95820.0\n",
              "ID            4762956.0\n",
              "Arrest              0.0\n",
              "Domestic            0.0\n",
              "Beat             1121.0\n",
              "Year             2006.0\n",
              "dtype: float64"
            ]
          },
          "metadata": {
            "tags": []
          },
          "execution_count": 96
        }
      ]
    },
    {
      "cell_type": "markdown",
      "metadata": {
        "id": "9meOOcK6Wd-I",
        "colab_type": "text"
      },
      "source": [
        "df.sort()"
      ]
    },
    {
      "cell_type": "code",
      "metadata": {
        "id": "qa7Ql3iLWd-J",
        "colab_type": "code",
        "colab": {}
      },
      "source": [
        "d = df.sort_values(by=['Year'],inplace=True)"
      ],
      "execution_count": 0,
      "outputs": []
    },
    {
      "cell_type": "code",
      "metadata": {
        "id": "PfHbLjQOWd-N",
        "colab_type": "code",
        "colab": {}
      },
      "source": [
        "t = df.sort_values(by=['Date'], inplace=True)"
      ],
      "execution_count": 0,
      "outputs": []
    },
    {
      "cell_type": "code",
      "metadata": {
        "id": "lmR3vztyWd-R",
        "colab_type": "code",
        "colab": {}
      },
      "source": [
        "df = df.sort_index()"
      ],
      "execution_count": 0,
      "outputs": []
    },
    {
      "cell_type": "code",
      "metadata": {
        "id": "QuMtqAzuWd-V",
        "colab_type": "code",
        "outputId": "3a36c402-5820-476e-9704-2b3a046ed38d",
        "colab": {
          "base_uri": "https://localhost:8080/",
          "height": 402
        }
      },
      "source": [
        "\n",
        "\n",
        "df"
      ],
      "execution_count": 0,
      "outputs": [
        {
          "output_type": "execute_result",
          "data": {
            "text/html": [
              "<div>\n",
              "<style scoped>\n",
              "    .dataframe tbody tr th:only-of-type {\n",
              "        vertical-align: middle;\n",
              "    }\n",
              "\n",
              "    .dataframe tbody tr th {\n",
              "        vertical-align: top;\n",
              "    }\n",
              "\n",
              "    .dataframe thead th {\n",
              "        text-align: right;\n",
              "    }\n",
              "</style>\n",
              "<table border=\"1\" class=\"dataframe\">\n",
              "  <thead>\n",
              "    <tr style=\"text-align: right;\">\n",
              "      <th></th>\n",
              "      <th>Unnamed: 0</th>\n",
              "      <th>ID</th>\n",
              "      <th>Date</th>\n",
              "      <th>LocationDescription</th>\n",
              "      <th>Arrest</th>\n",
              "      <th>Domestic</th>\n",
              "      <th>Beat</th>\n",
              "      <th>District</th>\n",
              "      <th>CommunityArea</th>\n",
              "      <th>Year</th>\n",
              "    </tr>\n",
              "  </thead>\n",
              "  <tbody>\n",
              "    <tr>\n",
              "      <th>0</th>\n",
              "      <td>0</td>\n",
              "      <td>8951354</td>\n",
              "      <td>12/31/12 23:15</td>\n",
              "      <td>STREET</td>\n",
              "      <td>False</td>\n",
              "      <td>False</td>\n",
              "      <td>623</td>\n",
              "      <td>6</td>\n",
              "      <td>69</td>\n",
              "      <td>2012</td>\n",
              "    </tr>\n",
              "    <tr>\n",
              "      <th>1</th>\n",
              "      <td>1</td>\n",
              "      <td>8951141</td>\n",
              "      <td>12/31/12 22:00</td>\n",
              "      <td>STREET</td>\n",
              "      <td>False</td>\n",
              "      <td>False</td>\n",
              "      <td>1213</td>\n",
              "      <td>12</td>\n",
              "      <td>24</td>\n",
              "      <td>2012</td>\n",
              "    </tr>\n",
              "    <tr>\n",
              "      <th>2</th>\n",
              "      <td>2</td>\n",
              "      <td>8952745</td>\n",
              "      <td>12/31/12 22:00</td>\n",
              "      <td>RESIDENTIAL YARD (FRONT/BACK)</td>\n",
              "      <td>False</td>\n",
              "      <td>False</td>\n",
              "      <td>1622</td>\n",
              "      <td>16</td>\n",
              "      <td>11</td>\n",
              "      <td>2012</td>\n",
              "    </tr>\n",
              "    <tr>\n",
              "      <th>3</th>\n",
              "      <td>3</td>\n",
              "      <td>8952223</td>\n",
              "      <td>12/31/12 22:00</td>\n",
              "      <td>STREET</td>\n",
              "      <td>False</td>\n",
              "      <td>False</td>\n",
              "      <td>724</td>\n",
              "      <td>7</td>\n",
              "      <td>67</td>\n",
              "      <td>2012</td>\n",
              "    </tr>\n",
              "    <tr>\n",
              "      <th>4</th>\n",
              "      <td>4</td>\n",
              "      <td>8951608</td>\n",
              "      <td>12/31/12 21:30</td>\n",
              "      <td>STREET</td>\n",
              "      <td>False</td>\n",
              "      <td>False</td>\n",
              "      <td>211</td>\n",
              "      <td>2</td>\n",
              "      <td>35</td>\n",
              "      <td>2012</td>\n",
              "    </tr>\n",
              "    <tr>\n",
              "      <th>...</th>\n",
              "      <td>...</td>\n",
              "      <td>...</td>\n",
              "      <td>...</td>\n",
              "      <td>...</td>\n",
              "      <td>...</td>\n",
              "      <td>...</td>\n",
              "      <td>...</td>\n",
              "      <td>...</td>\n",
              "      <td>...</td>\n",
              "      <td>...</td>\n",
              "    </tr>\n",
              "    <tr>\n",
              "      <th>191636</th>\n",
              "      <td>191636</td>\n",
              "      <td>1310068</td>\n",
              "      <td>1/1/01 0:05</td>\n",
              "      <td>STREET</td>\n",
              "      <td>False</td>\n",
              "      <td>False</td>\n",
              "      <td>1123</td>\n",
              "      <td>NaN</td>\n",
              "      <td>NaN</td>\n",
              "      <td>2001</td>\n",
              "    </tr>\n",
              "    <tr>\n",
              "      <th>191637</th>\n",
              "      <td>191637</td>\n",
              "      <td>1313404</td>\n",
              "      <td>1/1/01 0:01</td>\n",
              "      <td>STREET</td>\n",
              "      <td>False</td>\n",
              "      <td>False</td>\n",
              "      <td>2023</td>\n",
              "      <td>NaN</td>\n",
              "      <td>NaN</td>\n",
              "      <td>2001</td>\n",
              "    </tr>\n",
              "    <tr>\n",
              "      <th>191638</th>\n",
              "      <td>191638</td>\n",
              "      <td>1313442</td>\n",
              "      <td>1/1/01 0:01</td>\n",
              "      <td>STREET</td>\n",
              "      <td>False</td>\n",
              "      <td>False</td>\n",
              "      <td>911</td>\n",
              "      <td>NaN</td>\n",
              "      <td>NaN</td>\n",
              "      <td>2001</td>\n",
              "    </tr>\n",
              "    <tr>\n",
              "      <th>191639</th>\n",
              "      <td>191639</td>\n",
              "      <td>1563324</td>\n",
              "      <td>1/1/01 0:01</td>\n",
              "      <td>STREET</td>\n",
              "      <td>False</td>\n",
              "      <td>False</td>\n",
              "      <td>1712</td>\n",
              "      <td>NaN</td>\n",
              "      <td>NaN</td>\n",
              "      <td>2001</td>\n",
              "    </tr>\n",
              "    <tr>\n",
              "      <th>191640</th>\n",
              "      <td>191640</td>\n",
              "      <td>1310463</td>\n",
              "      <td>1/1/01 0:01</td>\n",
              "      <td>STREET</td>\n",
              "      <td>False</td>\n",
              "      <td>False</td>\n",
              "      <td>1911</td>\n",
              "      <td>NaN</td>\n",
              "      <td>NaN</td>\n",
              "      <td>2001</td>\n",
              "    </tr>\n",
              "  </tbody>\n",
              "</table>\n",
              "<p>191641 rows × 10 columns</p>\n",
              "</div>"
            ],
            "text/plain": [
              "        Unnamed: 0       ID            Date  ... District  CommunityArea  Year\n",
              "0                0  8951354  12/31/12 23:15  ...        6             69  2012\n",
              "1                1  8951141  12/31/12 22:00  ...       12             24  2012\n",
              "2                2  8952745  12/31/12 22:00  ...       16             11  2012\n",
              "3                3  8952223  12/31/12 22:00  ...        7             67  2012\n",
              "4                4  8951608  12/31/12 21:30  ...        2             35  2012\n",
              "...            ...      ...             ...  ...      ...            ...   ...\n",
              "191636      191636  1310068     1/1/01 0:05  ...      NaN            NaN  2001\n",
              "191637      191637  1313404     1/1/01 0:01  ...      NaN            NaN  2001\n",
              "191638      191638  1313442     1/1/01 0:01  ...      NaN            NaN  2001\n",
              "191639      191639  1563324     1/1/01 0:01  ...      NaN            NaN  2001\n",
              "191640      191640  1310463     1/1/01 0:01  ...      NaN            NaN  2001\n",
              "\n",
              "[191641 rows x 10 columns]"
            ]
          },
          "metadata": {
            "tags": []
          },
          "execution_count": 100
        }
      ]
    },
    {
      "cell_type": "code",
      "metadata": {
        "id": "1MbpfTcYWd-b",
        "colab_type": "code",
        "colab": {}
      },
      "source": [
        "df['Date'] = df['Date'].sort_values()"
      ],
      "execution_count": 0,
      "outputs": []
    },
    {
      "cell_type": "code",
      "metadata": {
        "id": "jqMB4A8UWd-g",
        "colab_type": "code",
        "colab": {}
      },
      "source": [
        "w = df['Date']"
      ],
      "execution_count": 0,
      "outputs": []
    },
    {
      "cell_type": "code",
      "metadata": {
        "id": "0xWJMlECWd-m",
        "colab_type": "code",
        "colab": {}
      },
      "source": [
        "np.info(w)"
      ],
      "execution_count": 0,
      "outputs": []
    },
    {
      "cell_type": "code",
      "metadata": {
        "id": "J-YmqhIEWd-q",
        "colab_type": "code",
        "outputId": "2ddde8cf-5116-4521-cec6-f20efdf6345c",
        "colab": {
          "base_uri": "https://localhost:8080/",
          "height": 50
        }
      },
      "source": [
        "np.random.permutation(w)"
      ],
      "execution_count": 0,
      "outputs": [
        {
          "output_type": "execute_result",
          "data": {
            "text/plain": [
              "array(['10/25/01 2:30', '8/30/06 11:23', '10/21/10 22:00', ...,\n",
              "       '5/7/12 12:30', '6/20/04 0:00', '9/24/05 0:00'], dtype=object)"
            ]
          },
          "metadata": {
            "tags": []
          },
          "execution_count": 104
        }
      ]
    },
    {
      "cell_type": "code",
      "metadata": {
        "id": "j8hsWJTBWd-u",
        "colab_type": "code",
        "outputId": "12b52b30-3a7d-4e09-b595-8a41eb68821a",
        "colab": {
          "base_uri": "https://localhost:8080/",
          "height": 34
        }
      },
      "source": [
        "print(np.max(w,axis=0))"
      ],
      "execution_count": 0,
      "outputs": [
        {
          "output_type": "stream",
          "text": [
            "9/9/12 9:50\n"
          ],
          "name": "stdout"
        }
      ]
    },
    {
      "cell_type": "code",
      "metadata": {
        "id": "Hoi3bvVFWd-y",
        "colab_type": "code",
        "outputId": "68a5d899-224f-4315-dded-ac26f95979a5",
        "colab": {
          "base_uri": "https://localhost:8080/",
          "height": 34
        }
      },
      "source": [
        "j = np.random.seed(23)\n",
        "print(j)"
      ],
      "execution_count": 0,
      "outputs": [
        {
          "output_type": "stream",
          "text": [
            "None\n"
          ],
          "name": "stdout"
        }
      ]
    },
    {
      "cell_type": "code",
      "metadata": {
        "id": "jFL_Vt0_Wd-1",
        "colab_type": "code",
        "outputId": "7dfab8ee-3047-44de-f48a-f4af47dc7900",
        "colab": {
          "base_uri": "https://localhost:8080/"
        }
      },
      "source": [
        "sample_size = df[['Date','Beat']]\n",
        "sample_size.boxplot(by = 'Date')\n"
      ],
      "execution_count": 0,
      "outputs": [
        {
          "output_type": "execute_result",
          "data": {
            "text/plain": [
              "<matplotlib.axes._subplots.AxesSubplot at 0x7f159f5ed128>"
            ]
          },
          "metadata": {
            "tags": []
          },
          "execution_count": 107
        }
      ]
    },
    {
      "cell_type": "code",
      "metadata": {
        "id": "ndCZ2v4zWd-7",
        "colab_type": "code",
        "colab": {}
      },
      "source": [
        "\n"
      ],
      "execution_count": 0,
      "outputs": []
    },
    {
      "cell_type": "code",
      "metadata": {
        "id": "TvQDWg3pWd-_",
        "colab_type": "code",
        "colab": {}
      },
      "source": [
        ""
      ],
      "execution_count": 0,
      "outputs": []
    },
    {
      "cell_type": "code",
      "metadata": {
        "id": "kkyQniATWd_D",
        "colab_type": "code",
        "colab": {}
      },
      "source": [
        "df['Date'].quantile(0.5)"
      ],
      "execution_count": 0,
      "outputs": []
    },
    {
      "cell_type": "code",
      "metadata": {
        "id": "cJEMkBgzWd_G",
        "colab_type": "code",
        "colab": {}
      },
      "source": [
        "month = df.Date.dt.month_name"
      ],
      "execution_count": 0,
      "outputs": []
    },
    {
      "cell_type": "code",
      "metadata": {
        "id": "rRlwSglij-sM",
        "colab_type": "code",
        "colab": {}
      },
      "source": [
        "df.Date.dt.month.value_counts()"
      ],
      "execution_count": 0,
      "outputs": []
    },
    {
      "cell_type": "code",
      "metadata": {
        "id": "Ctfn_1n1kRKZ",
        "colab_type": "code",
        "colab": {}
      },
      "source": [
        "day = df.Date.dt.day_name"
      ],
      "execution_count": 0,
      "outputs": []
    },
    {
      "cell_type": "code",
      "metadata": {
        "id": "EQrLelUylGZi",
        "colab_type": "code",
        "colab": {}
      },
      "source": [
        "df.Date.dt.day.value_counts()"
      ],
      "execution_count": 0,
      "outputs": []
    },
    {
      "cell_type": "code",
      "metadata": {
        "id": "mJ3qpLhFlMju",
        "colab_type": "code",
        "cellView": "both",
        "colab": {}
      },
      "source": [
        "df.Date.dt.month.value_counts('Arrest')\n"
      ],
      "execution_count": 0,
      "outputs": []
    },
    {
      "cell_type": "code",
      "metadata": {
        "id": "3sHxEVYomeI0",
        "colab_type": "code",
        "colab": {}
      },
      "source": [
        "Year = df.Date.dt.year"
      ],
      "execution_count": 0,
      "outputs": []
    },
    {
      "cell_type": "code",
      "metadata": {
        "id": "EzMKVegQnKnX",
        "colab_type": "code",
        "colab": {}
      },
      "source": [
        "df.Date.dt.year.value_counts('Year')"
      ],
      "execution_count": 0,
      "outputs": []
    },
    {
      "cell_type": "code",
      "metadata": {
        "id": "vz5cUSgRnq5e",
        "colab_type": "code",
        "colab": {}
      },
      "source": [
        "df.plot('Arrest','Year')"
      ],
      "execution_count": 0,
      "outputs": []
    },
    {
      "cell_type": "code",
      "metadata": {
        "id": "rlT3O1RCo0My",
        "colab_type": "code",
        "colab": {}
      },
      "source": [
        ""
      ],
      "execution_count": 0,
      "outputs": []
    },
    {
      "cell_type": "code",
      "metadata": {
        "id": "c-TxmwX5q1_S",
        "colab_type": "code",
        "colab": {}
      },
      "source": [
        ""
      ],
      "execution_count": 0,
      "outputs": []
    }
  ]
}
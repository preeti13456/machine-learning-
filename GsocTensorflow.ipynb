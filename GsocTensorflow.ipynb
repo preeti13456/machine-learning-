{
  "nbformat": 4,
  "nbformat_minor": 0,
  "metadata": {
    "colab": {
      "name": "GsocTensorflow.ipynb",
      "provenance": [],
      "collapsed_sections": [],
      "toc_visible": true,
      "mount_file_id": "11ymmAExA_qLCOxh6ou2ngAnBlMFOLcPB",
      "authorship_tag": "ABX9TyO+GQyroZjsAC6V7x5EZ7Y9",
      "include_colab_link": true
    },
    "kernelspec": {
      "name": "python3",
      "display_name": "Python 3"
    }
  },
  "cells": [
    {
      "cell_type": "markdown",
      "metadata": {
        "id": "view-in-github",
        "colab_type": "text"
      },
      "source": [
        "<a href=\"https://colab.research.google.com/github/preeti13456/machine-learning-/blob/master/GsocTensorflow.ipynb\" target=\"_parent\"><img src=\"https://colab.research.google.com/assets/colab-badge.svg\" alt=\"Open In Colab\"/></a>"
      ]
    },
    {
      "cell_type": "code",
      "metadata": {
        "id": "NEW0McVUeJd2",
        "colab_type": "code",
        "outputId": "5d5791ca-33e3-4b04-9677-eaeb34d2dc88",
        "colab": {
          "base_uri": "https://localhost:8080/",
          "height": 200
        }
      },
      "source": [
        "import os\n",
        "import zipfile\n",
        "import random\n",
        "import numpy as np\n",
        "import pandas as pd\n",
        "import matplotlib.pyplot as plt\n",
        "import seaborn as sns\n",
        "from six.moves import cPickle as pickle\n",
        "from six.moves import range\n",
        "import sklearn\n",
        "from sklearn.metrics import confusion_matrix\n",
        "from sklearn.model_selection import train_test_split\n",
        "from sklearn.preprocessing import StandardScaler\n",
        "import tensorflow.compat.v1 as tf\n",
        "tf.disable_v2_behavior()\n",
        "\n",
        "from __future__ import absolute_import, division, print_function, unicode_literals\n",
        "\n",
        "try:\n",
        "  # %tensorflow_version only exists in Colab.\n",
        "  !pip install -q tf-nightly\n",
        "except Exception:\n",
        "  pass\n",
        "import tensorflow as tf\n",
        "\n",
        "import tensorflow_datasets as tfds"
      ],
      "execution_count": 0,
      "outputs": [
        {
          "output_type": "display_data",
          "data": {
            "text/html": [
              "<p style=\"color: red;\">\n",
              "The default version of TensorFlow in Colab will switch to TensorFlow 2.x on the 27th of March, 2020.<br>\n",
              "We recommend you <a href=\"https://www.tensorflow.org/guide/migrate\" target=\"_blank\">upgrade</a> now\n",
              "or ensure your notebook will continue to use TensorFlow 1.x via the <code>%tensorflow_version 1.x</code> magic:\n",
              "<a href=\"https://colab.research.google.com/notebooks/tensorflow_version.ipynb\" target=\"_blank\">more info</a>.</p>\n"
            ],
            "text/plain": [
              "<IPython.core.display.HTML object>"
            ]
          },
          "metadata": {
            "tags": []
          }
        },
        {
          "output_type": "stream",
          "text": [
            "WARNING:tensorflow:From /tensorflow-1.15.2/python3.6/tensorflow_core/python/compat/v2_compat.py:68: disable_resource_variables (from tensorflow.python.ops.variable_scope) is deprecated and will be removed in a future version.\n",
            "Instructions for updating:\n",
            "non-resource variables are not supported in the long term\n",
            "\u001b[K     |████████████████████████████████| 516.4MB 28kB/s \n",
            "\u001b[K     |████████████████████████████████| 2.8MB 40.0MB/s \n",
            "\u001b[K     |████████████████████████████████| 460kB 52.6MB/s \n",
            "\u001b[K     |████████████████████████████████| 778kB 37.3MB/s \n",
            "\u001b[?25h"
          ],
          "name": "stdout"
        }
      ]
    },
    {
      "cell_type": "code",
      "metadata": {
        "id": "k6waQ2TaoD0v",
        "colab_type": "code",
        "colab": {}
      },
      "source": [
        "import os\n",
        "from pydrive.auth import GoogleAuth\n",
        "from pydrive.drive import GoogleDrive\n",
        "from google.colab import auth\n",
        "from oauth2client.client import GoogleCredentials"
      ],
      "execution_count": 0,
      "outputs": []
    },
    {
      "cell_type": "code",
      "metadata": {
        "id": "HTptP3d64YLO",
        "colab_type": "code",
        "outputId": "10683b13-4cd1-40fd-a1ef-9bc18f51e73b",
        "colab": {
          "base_uri": "https://localhost:8080/",
          "height": 402
        }
      },
      "source": [
        "data = pd.read_csv('/content/drive/My Drive/BBox_List_2017.csv')\n",
        "data"
      ],
      "execution_count": 0,
      "outputs": [
        {
          "output_type": "execute_result",
          "data": {
            "text/html": [
              "<div>\n",
              "<style scoped>\n",
              "    .dataframe tbody tr th:only-of-type {\n",
              "        vertical-align: middle;\n",
              "    }\n",
              "\n",
              "    .dataframe tbody tr th {\n",
              "        vertical-align: top;\n",
              "    }\n",
              "\n",
              "    .dataframe thead th {\n",
              "        text-align: right;\n",
              "    }\n",
              "</style>\n",
              "<table border=\"1\" class=\"dataframe\">\n",
              "  <thead>\n",
              "    <tr style=\"text-align: right;\">\n",
              "      <th></th>\n",
              "      <th>Image Index</th>\n",
              "      <th>Finding Label</th>\n",
              "      <th>Bbox [x</th>\n",
              "      <th>y</th>\n",
              "      <th>w</th>\n",
              "      <th>h]</th>\n",
              "      <th>Unnamed: 6</th>\n",
              "      <th>Unnamed: 7</th>\n",
              "      <th>Unnamed: 8</th>\n",
              "    </tr>\n",
              "  </thead>\n",
              "  <tbody>\n",
              "    <tr>\n",
              "      <th>0</th>\n",
              "      <td>00013118_008.png</td>\n",
              "      <td>Atelectasis</td>\n",
              "      <td>225.084746</td>\n",
              "      <td>547.019217</td>\n",
              "      <td>86.779661</td>\n",
              "      <td>79.186441</td>\n",
              "      <td>NaN</td>\n",
              "      <td>NaN</td>\n",
              "      <td>NaN</td>\n",
              "    </tr>\n",
              "    <tr>\n",
              "      <th>1</th>\n",
              "      <td>00014716_007.png</td>\n",
              "      <td>Atelectasis</td>\n",
              "      <td>686.101695</td>\n",
              "      <td>131.543498</td>\n",
              "      <td>185.491525</td>\n",
              "      <td>313.491525</td>\n",
              "      <td>NaN</td>\n",
              "      <td>NaN</td>\n",
              "      <td>NaN</td>\n",
              "    </tr>\n",
              "    <tr>\n",
              "      <th>2</th>\n",
              "      <td>00029817_009.png</td>\n",
              "      <td>Atelectasis</td>\n",
              "      <td>221.830508</td>\n",
              "      <td>317.053115</td>\n",
              "      <td>155.118644</td>\n",
              "      <td>216.949153</td>\n",
              "      <td>NaN</td>\n",
              "      <td>NaN</td>\n",
              "      <td>NaN</td>\n",
              "    </tr>\n",
              "    <tr>\n",
              "      <th>3</th>\n",
              "      <td>00014687_001.png</td>\n",
              "      <td>Atelectasis</td>\n",
              "      <td>726.237288</td>\n",
              "      <td>494.951420</td>\n",
              "      <td>141.016949</td>\n",
              "      <td>55.322034</td>\n",
              "      <td>NaN</td>\n",
              "      <td>NaN</td>\n",
              "      <td>NaN</td>\n",
              "    </tr>\n",
              "    <tr>\n",
              "      <th>4</th>\n",
              "      <td>00017877_001.png</td>\n",
              "      <td>Atelectasis</td>\n",
              "      <td>660.067797</td>\n",
              "      <td>569.780787</td>\n",
              "      <td>200.677966</td>\n",
              "      <td>78.101695</td>\n",
              "      <td>NaN</td>\n",
              "      <td>NaN</td>\n",
              "      <td>NaN</td>\n",
              "    </tr>\n",
              "    <tr>\n",
              "      <th>...</th>\n",
              "      <td>...</td>\n",
              "      <td>...</td>\n",
              "      <td>...</td>\n",
              "      <td>...</td>\n",
              "      <td>...</td>\n",
              "      <td>...</td>\n",
              "      <td>...</td>\n",
              "      <td>...</td>\n",
              "      <td>...</td>\n",
              "    </tr>\n",
              "    <tr>\n",
              "      <th>979</th>\n",
              "      <td>00029464_015.png</td>\n",
              "      <td>Atelectasis</td>\n",
              "      <td>198.940451</td>\n",
              "      <td>352.900747</td>\n",
              "      <td>615.537778</td>\n",
              "      <td>323.128889</td>\n",
              "      <td>NaN</td>\n",
              "      <td>NaN</td>\n",
              "      <td>NaN</td>\n",
              "    </tr>\n",
              "    <tr>\n",
              "      <th>980</th>\n",
              "      <td>00025769_001.png</td>\n",
              "      <td>Atelectasis</td>\n",
              "      <td>701.838229</td>\n",
              "      <td>572.491858</td>\n",
              "      <td>103.537778</td>\n",
              "      <td>63.715556</td>\n",
              "      <td>NaN</td>\n",
              "      <td>NaN</td>\n",
              "      <td>NaN</td>\n",
              "    </tr>\n",
              "    <tr>\n",
              "      <th>981</th>\n",
              "      <td>00016837_002.png</td>\n",
              "      <td>Atelectasis</td>\n",
              "      <td>140.913785</td>\n",
              "      <td>658.962969</td>\n",
              "      <td>271.928889</td>\n",
              "      <td>94.435556</td>\n",
              "      <td>NaN</td>\n",
              "      <td>NaN</td>\n",
              "      <td>NaN</td>\n",
              "    </tr>\n",
              "    <tr>\n",
              "      <th>982</th>\n",
              "      <td>00020124_003.png</td>\n",
              "      <td>Atelectasis</td>\n",
              "      <td>175.047118</td>\n",
              "      <td>580.456302</td>\n",
              "      <td>244.622222</td>\n",
              "      <td>103.537778</td>\n",
              "      <td>NaN</td>\n",
              "      <td>NaN</td>\n",
              "      <td>NaN</td>\n",
              "    </tr>\n",
              "    <tr>\n",
              "      <th>983</th>\n",
              "      <td>00026920_000.png</td>\n",
              "      <td>Atelectasis</td>\n",
              "      <td>343.438229</td>\n",
              "      <td>446.198524</td>\n",
              "      <td>120.604444</td>\n",
              "      <td>53.475556</td>\n",
              "      <td>NaN</td>\n",
              "      <td>NaN</td>\n",
              "      <td>NaN</td>\n",
              "    </tr>\n",
              "  </tbody>\n",
              "</table>\n",
              "<p>984 rows × 9 columns</p>\n",
              "</div>"
            ],
            "text/plain": [
              "          Image Index Finding Label  ...  Unnamed: 7  Unnamed: 8\n",
              "0    00013118_008.png   Atelectasis  ...         NaN         NaN\n",
              "1    00014716_007.png   Atelectasis  ...         NaN         NaN\n",
              "2    00029817_009.png   Atelectasis  ...         NaN         NaN\n",
              "3    00014687_001.png   Atelectasis  ...         NaN         NaN\n",
              "4    00017877_001.png   Atelectasis  ...         NaN         NaN\n",
              "..                ...           ...  ...         ...         ...\n",
              "979  00029464_015.png   Atelectasis  ...         NaN         NaN\n",
              "980  00025769_001.png   Atelectasis  ...         NaN         NaN\n",
              "981  00016837_002.png   Atelectasis  ...         NaN         NaN\n",
              "982  00020124_003.png   Atelectasis  ...         NaN         NaN\n",
              "983  00026920_000.png   Atelectasis  ...         NaN         NaN\n",
              "\n",
              "[984 rows x 9 columns]"
            ]
          },
          "metadata": {
            "tags": []
          },
          "execution_count": 3
        }
      ]
    },
    {
      "cell_type": "code",
      "metadata": {
        "id": "dH0S_xAJ4n8I",
        "colab_type": "code",
        "outputId": "f3c0b6e4-864b-4d17-94aa-21734bbe7e83",
        "colab": {
          "base_uri": "https://localhost:8080/",
          "height": 438
        }
      },
      "source": [
        "t = pd.read_csv('/content/drive/My Drive/Data_Entry_2017.csv')\n",
        "t"
      ],
      "execution_count": 0,
      "outputs": [
        {
          "output_type": "execute_result",
          "data": {
            "text/html": [
              "<div>\n",
              "<style scoped>\n",
              "    .dataframe tbody tr th:only-of-type {\n",
              "        vertical-align: middle;\n",
              "    }\n",
              "\n",
              "    .dataframe tbody tr th {\n",
              "        vertical-align: top;\n",
              "    }\n",
              "\n",
              "    .dataframe thead th {\n",
              "        text-align: right;\n",
              "    }\n",
              "</style>\n",
              "<table border=\"1\" class=\"dataframe\">\n",
              "  <thead>\n",
              "    <tr style=\"text-align: right;\">\n",
              "      <th></th>\n",
              "      <th>Image Index</th>\n",
              "      <th>Finding Labels</th>\n",
              "      <th>Follow-up #</th>\n",
              "      <th>Patient ID</th>\n",
              "      <th>Patient Age</th>\n",
              "      <th>Patient Gender</th>\n",
              "      <th>View Position</th>\n",
              "      <th>OriginalImage[Width</th>\n",
              "      <th>Height]</th>\n",
              "      <th>OriginalImagePixelSpacing[x</th>\n",
              "      <th>y]</th>\n",
              "      <th>Unnamed: 11</th>\n",
              "    </tr>\n",
              "  </thead>\n",
              "  <tbody>\n",
              "    <tr>\n",
              "      <th>0</th>\n",
              "      <td>00000001_000.png</td>\n",
              "      <td>Cardiomegaly</td>\n",
              "      <td>0</td>\n",
              "      <td>1</td>\n",
              "      <td>58</td>\n",
              "      <td>M</td>\n",
              "      <td>PA</td>\n",
              "      <td>2682</td>\n",
              "      <td>2749</td>\n",
              "      <td>0.143</td>\n",
              "      <td>0.143</td>\n",
              "      <td>NaN</td>\n",
              "    </tr>\n",
              "    <tr>\n",
              "      <th>1</th>\n",
              "      <td>00000001_001.png</td>\n",
              "      <td>Cardiomegaly|Emphysema</td>\n",
              "      <td>1</td>\n",
              "      <td>1</td>\n",
              "      <td>58</td>\n",
              "      <td>M</td>\n",
              "      <td>PA</td>\n",
              "      <td>2894</td>\n",
              "      <td>2729</td>\n",
              "      <td>0.143</td>\n",
              "      <td>0.143</td>\n",
              "      <td>NaN</td>\n",
              "    </tr>\n",
              "    <tr>\n",
              "      <th>2</th>\n",
              "      <td>00000001_002.png</td>\n",
              "      <td>Cardiomegaly|Effusion</td>\n",
              "      <td>2</td>\n",
              "      <td>1</td>\n",
              "      <td>58</td>\n",
              "      <td>M</td>\n",
              "      <td>PA</td>\n",
              "      <td>2500</td>\n",
              "      <td>2048</td>\n",
              "      <td>0.168</td>\n",
              "      <td>0.168</td>\n",
              "      <td>NaN</td>\n",
              "    </tr>\n",
              "    <tr>\n",
              "      <th>3</th>\n",
              "      <td>00000002_000.png</td>\n",
              "      <td>No Finding</td>\n",
              "      <td>0</td>\n",
              "      <td>2</td>\n",
              "      <td>81</td>\n",
              "      <td>M</td>\n",
              "      <td>PA</td>\n",
              "      <td>2500</td>\n",
              "      <td>2048</td>\n",
              "      <td>0.171</td>\n",
              "      <td>0.171</td>\n",
              "      <td>NaN</td>\n",
              "    </tr>\n",
              "    <tr>\n",
              "      <th>4</th>\n",
              "      <td>00000003_000.png</td>\n",
              "      <td>Hernia</td>\n",
              "      <td>0</td>\n",
              "      <td>3</td>\n",
              "      <td>81</td>\n",
              "      <td>F</td>\n",
              "      <td>PA</td>\n",
              "      <td>2582</td>\n",
              "      <td>2991</td>\n",
              "      <td>0.143</td>\n",
              "      <td>0.143</td>\n",
              "      <td>NaN</td>\n",
              "    </tr>\n",
              "    <tr>\n",
              "      <th>...</th>\n",
              "      <td>...</td>\n",
              "      <td>...</td>\n",
              "      <td>...</td>\n",
              "      <td>...</td>\n",
              "      <td>...</td>\n",
              "      <td>...</td>\n",
              "      <td>...</td>\n",
              "      <td>...</td>\n",
              "      <td>...</td>\n",
              "      <td>...</td>\n",
              "      <td>...</td>\n",
              "      <td>...</td>\n",
              "    </tr>\n",
              "    <tr>\n",
              "      <th>112115</th>\n",
              "      <td>00030801_001.png</td>\n",
              "      <td>Mass|Pneumonia</td>\n",
              "      <td>1</td>\n",
              "      <td>30801</td>\n",
              "      <td>39</td>\n",
              "      <td>M</td>\n",
              "      <td>PA</td>\n",
              "      <td>2048</td>\n",
              "      <td>2500</td>\n",
              "      <td>0.168</td>\n",
              "      <td>0.168</td>\n",
              "      <td>NaN</td>\n",
              "    </tr>\n",
              "    <tr>\n",
              "      <th>112116</th>\n",
              "      <td>00030802_000.png</td>\n",
              "      <td>No Finding</td>\n",
              "      <td>0</td>\n",
              "      <td>30802</td>\n",
              "      <td>29</td>\n",
              "      <td>M</td>\n",
              "      <td>PA</td>\n",
              "      <td>2048</td>\n",
              "      <td>2500</td>\n",
              "      <td>0.168</td>\n",
              "      <td>0.168</td>\n",
              "      <td>NaN</td>\n",
              "    </tr>\n",
              "    <tr>\n",
              "      <th>112117</th>\n",
              "      <td>00030803_000.png</td>\n",
              "      <td>No Finding</td>\n",
              "      <td>0</td>\n",
              "      <td>30803</td>\n",
              "      <td>42</td>\n",
              "      <td>F</td>\n",
              "      <td>PA</td>\n",
              "      <td>2048</td>\n",
              "      <td>2500</td>\n",
              "      <td>0.168</td>\n",
              "      <td>0.168</td>\n",
              "      <td>NaN</td>\n",
              "    </tr>\n",
              "    <tr>\n",
              "      <th>112118</th>\n",
              "      <td>00030804_000.png</td>\n",
              "      <td>No Finding</td>\n",
              "      <td>0</td>\n",
              "      <td>30804</td>\n",
              "      <td>30</td>\n",
              "      <td>F</td>\n",
              "      <td>PA</td>\n",
              "      <td>2048</td>\n",
              "      <td>2500</td>\n",
              "      <td>0.168</td>\n",
              "      <td>0.168</td>\n",
              "      <td>NaN</td>\n",
              "    </tr>\n",
              "    <tr>\n",
              "      <th>112119</th>\n",
              "      <td>00030805_000.png</td>\n",
              "      <td>No Finding</td>\n",
              "      <td>0</td>\n",
              "      <td>30805</td>\n",
              "      <td>27</td>\n",
              "      <td>M</td>\n",
              "      <td>PA</td>\n",
              "      <td>2048</td>\n",
              "      <td>2500</td>\n",
              "      <td>0.171</td>\n",
              "      <td>0.171</td>\n",
              "      <td>NaN</td>\n",
              "    </tr>\n",
              "  </tbody>\n",
              "</table>\n",
              "<p>112120 rows × 12 columns</p>\n",
              "</div>"
            ],
            "text/plain": [
              "             Image Index          Finding Labels  ...     y]  Unnamed: 11\n",
              "0       00000001_000.png            Cardiomegaly  ...  0.143          NaN\n",
              "1       00000001_001.png  Cardiomegaly|Emphysema  ...  0.143          NaN\n",
              "2       00000001_002.png   Cardiomegaly|Effusion  ...  0.168          NaN\n",
              "3       00000002_000.png              No Finding  ...  0.171          NaN\n",
              "4       00000003_000.png                  Hernia  ...  0.143          NaN\n",
              "...                  ...                     ...  ...    ...          ...\n",
              "112115  00030801_001.png          Mass|Pneumonia  ...  0.168          NaN\n",
              "112116  00030802_000.png              No Finding  ...  0.168          NaN\n",
              "112117  00030803_000.png              No Finding  ...  0.168          NaN\n",
              "112118  00030804_000.png              No Finding  ...  0.168          NaN\n",
              "112119  00030805_000.png              No Finding  ...  0.171          NaN\n",
              "\n",
              "[112120 rows x 12 columns]"
            ]
          },
          "metadata": {
            "tags": []
          },
          "execution_count": 4
        }
      ]
    },
    {
      "cell_type": "code",
      "metadata": {
        "id": "SrIEReRr495c",
        "colab_type": "code",
        "colab": {}
      },
      "source": [
        "# Authenticate and create the PyDrive client.\n",
        "auth.authenticate_user()\n",
        "gauth = GoogleAuth()\n",
        "gauth.credentials = GoogleCredentials.get_application_default()\n",
        "drive = GoogleDrive(gauth)"
      ],
      "execution_count": 0,
      "outputs": []
    },
    {
      "cell_type": "code",
      "metadata": {
        "id": "Tq125ap95xVs",
        "colab_type": "code",
        "colab": {}
      },
      "source": [
        "with open('/content/drive/My Drive/test_list.txt', 'w') as f:\n",
        "  f.write('Hello Google Drive!')\n",
        "  print('/content/drive/My Drive/test_list.txt')\n",
        "  f\n"
      ],
      "execution_count": 0,
      "outputs": []
    },
    {
      "cell_type": "code",
      "metadata": {
        "id": "hoPyI3ElEAjp",
        "colab_type": "code",
        "colab": {}
      },
      "source": [
        "with open('/content/drive/My Drive/train_val_list.txt', 'w') as c:\n",
        "  c.write('Hello Google Drive!')\n",
        "  print('/content/drive/My Drive/test_list.txt')\n",
        "  c"
      ],
      "execution_count": 0,
      "outputs": []
    },
    {
      "cell_type": "code",
      "metadata": {
        "id": "J2WOoNsvFSzM",
        "colab_type": "code",
        "colab": {}
      },
      "source": [
        "data.head()\n"
      ],
      "execution_count": 0,
      "outputs": []
    },
    {
      "cell_type": "code",
      "metadata": {
        "id": "joThv7wPFjsC",
        "colab_type": "code",
        "colab": {}
      },
      "source": [
        "t.head()"
      ],
      "execution_count": 0,
      "outputs": []
    },
    {
      "cell_type": "code",
      "metadata": {
        "id": "BUYvZZeOIlKv",
        "colab_type": "code",
        "colab": {}
      },
      "source": [
        "import os\n",
        "os.path.isfile('/content/drive/My Drive/test_list.txt')"
      ],
      "execution_count": 0,
      "outputs": []
    },
    {
      "cell_type": "code",
      "metadata": {
        "id": "nUEtiCkaIp4x",
        "colab_type": "code",
        "colab": {}
      },
      "source": [
        "f = open(\"/content/drive/My Drive/test_list.txt\")\n",
        "print(f.read(10))"
      ],
      "execution_count": 0,
      "outputs": []
    },
    {
      "cell_type": "code",
      "metadata": {
        "id": "zDsrxJpFLas0",
        "colab_type": "code",
        "colab": {}
      },
      "source": [
        "c = open('/content/drive/My Drive/train_val_list.txt')\n",
        "print(c.read(100))"
      ],
      "execution_count": 0,
      "outputs": []
    },
    {
      "cell_type": "code",
      "metadata": {
        "id": "kjeMGVehMU84",
        "colab_type": "code",
        "colab": {}
      },
      "source": [
        "import IPython.display as display\n",
        "from PIL import Image"
      ],
      "execution_count": 0,
      "outputs": []
    },
    {
      "cell_type": "code",
      "metadata": {
        "id": "qmFcbxc5MqqI",
        "colab_type": "code",
        "colab": {}
      },
      "source": [
        "DIRECTORY_URL = 'https://storage.googleapis.com/download.tensorflow.org/data/illiad/'\n",
        "FILE_NAMES = ['text_list.txt','train_val_list.txt']"
      ],
      "execution_count": 0,
      "outputs": []
    },
    {
      "cell_type": "code",
      "metadata": {
        "id": "_a55Pw4imOPo",
        "colab_type": "code",
        "colab": {}
      },
      "source": [
        "data[['Image Index' ,\t'Finding Label' ,\t'y','w' ,\t'Unnamed: 6' ,\t'Unnamed: 7' ,\t'Unnamed: 8']].describe()"
      ],
      "execution_count": 0,
      "outputs": []
    },
    {
      "cell_type": "code",
      "metadata": {
        "id": "87mOuhsYbt54",
        "colab_type": "code",
        "colab": {}
      },
      "source": [
        "t [['Image Index',\t'Finding Labels' ,'Patient ID',\t'Patient Age',\t'Patient Gender',\t'View Position'\t\t, 'Unnamed: 11']].describe()"
      ],
      "execution_count": 0,
      "outputs": []
    },
    {
      "cell_type": "code",
      "metadata": {
        "id": "EE1ZEqg1zxdh",
        "colab_type": "code",
        "colab": {}
      },
      "source": [
        "with open('test_list.txt','r') as f_open:\n",
        "    w = f_open.read()\n",
        "\n",
        "print (w)"
      ],
      "execution_count": 0,
      "outputs": []
    },
    {
      "cell_type": "code",
      "metadata": {
        "id": "WN-sleY96A5i",
        "colab_type": "code",
        "colab": {}
      },
      "source": [
        "with open('train_val_list.txt','r') as f_open:\n",
        "    s = f_open.read()\n",
        "\n",
        "print (s)"
      ],
      "execution_count": 0,
      "outputs": []
    },
    {
      "cell_type": "code",
      "metadata": {
        "id": "AMRqp9kl6r0l",
        "colab_type": "code",
        "colab": {}
      },
      "source": [
        "w = tf.Variable(tf.ones(shape=(2,2)), name=\"W\")\n",
        "s = tf.Variable(tf.zeros(shape=(2)), name=\"b\")\n",
        "\n",
        "@tf.function\n",
        "def forward(x):\n",
        "  return w * x + s\n",
        "\n",
        "out_w = forward([1,0])\n",
        "print(out_w)\n",
        "out_s = forward([2,0])\n",
        "print(out_s)"
      ],
      "execution_count": 0,
      "outputs": []
    },
    {
      "cell_type": "code",
      "metadata": {
        "id": "WRg1Qk8G6ye9",
        "colab_type": "code",
        "colab": {}
      },
      "source": [
        "\n",
        "out_s = forward([0,1])\n",
        "\n",
        "regularizer = tf.keras.regularizers.l2(0.04)\n",
        "reg_loss=regularizer(w)"
      ],
      "execution_count": 0,
      "outputs": []
    },
    {
      "cell_type": "code",
      "metadata": {
        "id": "ub_gWZBe8Yb8",
        "colab_type": "code",
        "colab": {}
      },
      "source": [
        "data = []\n",
        "labels = []\n",
        "\n",
        "def preprocess():\n",
        "    with open('test_list.txt') as f:\n",
        "        for line in f:\n",
        "            \n",
        "\n",
        "            img = Image.open(content/test_list.txt)\n",
        "            arr = np.array(img.getdata(), dtype=np.int8)\n",
        "            data.append(arr)\n",
        "               "
      ],
      "execution_count": 0,
      "outputs": []
    },
    {
      "cell_type": "code",
      "metadata": {
        "id": "BCnAPp4K_EoB",
        "colab_type": "code",
        "colab": {}
      },
      "source": [
        "model = tf.keras.Sequential([\n",
        "    tf.keras.layers.Conv2D(32, 3, activation='relu',\n",
        "                           kernel_regularizer=tf.keras.regularizers.l2(0.04),\n",
        "                           input_shape=(28, 28, 1)),\n",
        "    tf.keras.layers.MaxPooling2D(),\n",
        "    tf.keras.layers.Flatten(),\n",
        "    tf.keras.layers.Dropout(0.1),\n",
        "    tf.keras.layers.Dense(64, activation='relu'),\n",
        "    tf.keras.layers.BatchNormalization(),\n",
        "    tf.keras.layers.Dense(10)\n",
        "])\n",
        "\n",
        "train_data = tf.ones(shape=(1, 28, 28, 1))\n",
        "test_data = tf.ones(shape=(1, 28, 28, 1))\n"
      ],
      "execution_count": 0,
      "outputs": []
    },
    {
      "cell_type": "code",
      "metadata": {
        "id": "qKKWDm0mAWm0",
        "colab_type": "code",
        "colab": {}
      },
      "source": [
        "# Here are all the trainable variables.\n",
        "len(model.trainable_variables)"
      ],
      "execution_count": 0,
      "outputs": []
    },
    {
      "cell_type": "code",
      "metadata": {
        "id": "oLLUVzm3AcED",
        "colab_type": "code",
        "colab": {}
      },
      "source": [
        "# Here is the regularization loss.\n",
        "model.losses"
      ],
      "execution_count": 0,
      "outputs": []
    },
    {
      "cell_type": "code",
      "metadata": {
        "id": "ynK_52bjAd40",
        "colab_type": "code",
        "colab": {}
      },
      "source": [
        "# Create a custom layer for part of the model\n",
        "class CustomLayer(tf.keras.layers.Layer):\n",
        "  def __init__(self, *args, **kwargs):\n",
        "    super(CustomLayer, self).__init__(*args, **kwargs)\n",
        "\n",
        "  def build(self, input_shape):\n",
        "    self.w = self.add_weight(\n",
        "        shape=input_shape[1:],\n",
        "        dtype=tf.float32,\n",
        "        initializer=tf.keras.initializers.ones(),\n",
        "        regularizer=tf.keras.regularizers.l2(0.02),\n",
        "        trainable=True)\n",
        "\n",
        "  # Call method will sometimes get used in graph mode,\n",
        "  # training will get turned into a tensor\n",
        "  @tf.function\n",
        "  def call(self, inputs, training=None):\n",
        "    if training:\n",
        "      return inputs + self.w\n",
        "    else:\n",
        "      return inputs + self.w * 0.5"
      ],
      "execution_count": 0,
      "outputs": []
    },
    {
      "cell_type": "code",
      "metadata": {
        "id": "edAuXSCTBHEG",
        "colab_type": "code",
        "colab": {}
      },
      "source": [
        "s = tf.ones(shape=(1, 28, 28, 1))\n",
        "w = tf.ones(shape=(1, 28, 28, 1))"
      ],
      "execution_count": 0,
      "outputs": []
    },
    {
      "cell_type": "code",
      "metadata": {
        "id": "9uE38eJkBKSG",
        "colab_type": "code",
        "colab": {}
      },
      "source": [
        "model = tf.keras.Sequential([\n",
        "    CustomLayer(input_shape=(28, 28, 1)),\n",
        "    tf.keras.layers.Conv2D(32, 3, activation='relu'),\n",
        "    tf.keras.layers.MaxPooling2D(),\n",
        "    tf.keras.layers.Flatten(),\n",
        "])\n",
        "\n",
        "train_out = model(s, training=True)\n",
        "test_out = model(w, training=False)\n"
      ],
      "execution_count": 0,
      "outputs": []
    },
    {
      "cell_type": "code",
      "metadata": {
        "id": "ocUwCfhNB6ji",
        "colab_type": "code",
        "colab": {}
      },
      "source": [
        "BUFFER_SIZE = 10 # Use a much larger value for real code.\n",
        "BATCH_SIZE = 64\n",
        "NUM_EPOCHS = 5\n",
        "\n",
        "\n",
        "def scale(image, label):\n",
        "  image = tf.cast(image, tf.float32)\n",
        "  image /= 255\n",
        "\n",
        "  return image, label"
      ],
      "execution_count": 0,
      "outputs": []
    },
    {
      "cell_type": "code",
      "metadata": {
        "id": "D9geWOS5LUJs",
        "colab_type": "code",
        "colab": {}
      },
      "source": [
        ""
      ],
      "execution_count": 0,
      "outputs": []
    }
  ]
}
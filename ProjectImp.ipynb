{
  "nbformat": 4,
  "nbformat_minor": 0,
  "metadata": {
    "colab": {
      "name": "ProjectImp.ipynb",
      "provenance": [],
      "collapsed_sections": [],
      "authorship_tag": "ABX9TyNzU9dbmFZz39yVBpHpTSTh",
      "include_colab_link": true
    },
    "kernelspec": {
      "name": "python3",
      "display_name": "Python 3"
    }
  },
  "cells": [
    {
      "cell_type": "markdown",
      "metadata": {
        "id": "view-in-github",
        "colab_type": "text"
      },
      "source": [
        "<a href=\"https://colab.research.google.com/github/preeti13456/machine-learning-/blob/master/ProjectImp.ipynb\" target=\"_parent\"><img src=\"https://colab.research.google.com/assets/colab-badge.svg\" alt=\"Open In Colab\"/></a>"
      ]
    },
    {
      "cell_type": "code",
      "metadata": {
        "id": "wytDwF3ndH54",
        "colab_type": "code",
        "colab": {}
      },
      "source": [
        "import io\n",
        "import matplotlib.pyplot as plt\n",
        "from __future__ import absolute_import, division, print_function, unicode_literals\n",
        "try:\n",
        "  # %tensorflow_version only exists in Colab.\n",
        "  %tensorflow_version 2.x\n",
        "except Exception:\n",
        "  pass\n",
        "import tensorflow as tf\n",
        "\n",
        "from tensorflow import keras\n",
        "from tensorflow.keras import layers\n",
        "import tensorflow_datasets as tfds"
      ],
      "execution_count": 0,
      "outputs": []
    },
    {
      "cell_type": "code",
      "metadata": {
        "id": "UsHtXVNLfCc7",
        "colab_type": "code",
        "colab": {}
      },
      "source": [
        "embedding_layer = layers.Embedding(1000, 5)"
      ],
      "execution_count": 0,
      "outputs": []
    },
    {
      "cell_type": "code",
      "metadata": {
        "id": "1cndettWd-qg",
        "colab_type": "code",
        "colab": {}
      },
      "source": [
        "result = embedding_layer(tf.constant([1,2,3]))"
      ],
      "execution_count": 0,
      "outputs": []
    },
    {
      "cell_type": "code",
      "metadata": {
        "id": "GCJIUuDbgF4a",
        "colab_type": "code",
        "outputId": "95e6cdd0-2dee-4e5d-f6d5-d70687849e8f",
        "colab": {
          "base_uri": "https://localhost:8080/",
          "height": 67
        }
      },
      "source": [
        "print(result.numpy())"
      ],
      "execution_count": 0,
      "outputs": [
        {
          "output_type": "stream",
          "text": [
            "[[-0.01903666  0.01800349  0.0280831   0.03482168 -0.00250801]\n",
            " [ 0.03689012  0.04384783  0.03890053  0.01753645  0.03188804]\n",
            " [ 0.04553198  0.03206075  0.03227425 -0.0459173  -0.04927248]]\n"
          ],
          "name": "stdout"
        }
      ]
    },
    {
      "cell_type": "code",
      "metadata": {
        "id": "dApeKJttgK1U",
        "colab_type": "code",
        "outputId": "d9ce4da9-e5cc-4301-949a-02279868dadf",
        "colab": {
          "base_uri": "https://localhost:8080/",
          "height": 34
        }
      },
      "source": [
        "print(result.numpy().shape) #3 inputs in embedding of 5 layer"
      ],
      "execution_count": 0,
      "outputs": [
        {
          "output_type": "stream",
          "text": [
            "(3, 5)\n"
          ],
          "name": "stdout"
        }
      ]
    },
    {
      "cell_type": "code",
      "metadata": {
        "id": "7HdqaSAT5I1v",
        "colab_type": "code",
        "outputId": "73b00d71-c71e-46a2-ac4e-63d17f4d914a",
        "colab": {
          "base_uri": "https://localhost:8080/",
          "height": 34
        }
      },
      "source": [
        "tfds.text.imdb.IMDBReviews"
      ],
      "execution_count": 0,
      "outputs": [
        {
          "output_type": "execute_result",
          "data": {
            "text/plain": [
              "tensorflow_datasets.text.imdb.IMDBReviews"
            ]
          },
          "metadata": {
            "tags": []
          },
          "execution_count": 57
        }
      ]
    },
    {
      "cell_type": "code",
      "metadata": {
        "id": "KISnj5Cd6BVJ",
        "colab_type": "code",
        "outputId": "b940de86-6172-4359-9c52-e039663f3215",
        "colab": {
          "base_uri": "https://localhost:8080/",
          "height": 34
        }
      },
      "source": [
        "tfds.text.imdb.IMDBReviewsConfig"
      ],
      "execution_count": 0,
      "outputs": [
        {
          "output_type": "execute_result",
          "data": {
            "text/plain": [
              "tensorflow_datasets.text.imdb.IMDBReviewsConfig"
            ]
          },
          "metadata": {
            "tags": []
          },
          "execution_count": 59
        }
      ]
    },
    {
      "cell_type": "code",
      "metadata": {
        "id": "IN0Ga1nkISkK",
        "colab_type": "code",
        "colab": {}
      },
      "source": [
        "def get_batch_data():\n",
        "  (train_data, test_data), info = tfds.load(\n",
        "'imdb_reviews/subwords8k',\n",
        "split=(tfds.Split.TRAIN, tfds.Split.TEST),\n",
        "with_info=True,\n",
        "as_supervised=True\n",
        ")\n",
        "  encoder = info.features['text'].encoder\n",
        "  print(encoder.subwords[:20])\n",
        "\n",
        "  padded_shapes = ([None], ())\n",
        "  train_batches = train_data.shuffle(1000).padded_batch(10,\n",
        "                                                      padded_shapes = padded_shapes)\n",
        "  test_batches = test_data.shuffle(1000).padded_batch(10,\n",
        "                                                      padded_shapes = padded_shapes) \n",
        "\n",
        "  return train_batches, test_batches, encoder\n",
        "\n",
        "def get_model(encoder, embedding):\n",
        "  embedding_dim = 16\n",
        "  model = keras.Sequential([\n",
        "                          layers.Embedding(encoder.vocab_size, embedding_dim),\n",
        "                          layers.GlobalAveragePooling1D(),\n",
        "                          layers.Dense(1, activation='sigmoid')])\n",
        "  model.compile(optimizer = 'adam', loss = 'binary_crossentropy',\n",
        "              metrics = ['acc'])\n",
        "  return model\n",
        "    \n",
        "\n",
        "def plot_data(history):\n",
        "  history_dict = history.history\n",
        "  acc = history_dict['acc']\n",
        "  val_acc = history_dict['val_acc']\n",
        "  epochs = range(1,len(acc)+1)\n",
        "\n",
        "  plt.figure(figsize=(12,9))\n",
        "  plt.plot(epochs, acc, 'bo', label='Training acc')\n",
        "\n",
        "  plt.plot(epochs, val_acc, 'b', label='Validation acc')\n",
        "  plt.title('Training and validation accuracy')\n",
        "  plt.xlabel('Epochs')\n",
        "  plt.ylabel('Accuracy')\n",
        "  plt.legend(loc='lower right')\n",
        "  plt.ylim((0.5, 1))\n",
        "  plt.show\n",
        "  \n",
        "\n",
        "def retrive_embeddings ():\n",
        "  "
      ],
      "execution_count": 0,
      "outputs": []
    },
    {
      "cell_type": "code",
      "metadata": {
        "colab_type": "code",
        "id": "Tow3OUB95fzV",
        "colab": {}
      },
      "source": [
        "\n",
        "(train_data, test_data), info = tfds.load(\n",
        "'imdb_reviews/subwords8k',\n",
        "split=(tfds.Split.TRAIN, tfds.Split.TEST),\n",
        "with_info=True,\n",
        "as_supervised=True\n",
        ")"
      ],
      "execution_count": 0,
      "outputs": []
    },
    {
      "cell_type": "code",
      "metadata": {
        "colab_type": "code",
        "outputId": "1c5aa58f-c784-4b50-f738-5979451c3030",
        "id": "K6vRnaq55eGc",
        "colab": {
          "base_uri": "https://localhost:8080/",
          "height": 34
        }
      },
      "source": [
        "encoder = info.features['text'].encoder\n",
        "print(encoder.subwords[:20])"
      ],
      "execution_count": 0,
      "outputs": [
        {
          "output_type": "stream",
          "text": [
            "['the_', ', ', '. ', 'a_', 'and_', 'of_', 'to_', 's_', 'is_', 'br', 'in_', 'I_', 'that_', 'this_', 'it_', ' /><', ' />', 'was_', 'The_', 'as_']\n"
          ],
          "name": "stdout"
        }
      ]
    },
    {
      "cell_type": "code",
      "metadata": {
        "id": "w_w_VE-Cgamq",
        "colab_type": "code",
        "colab": {}
      },
      "source": [
        "padded_shapes = ([None], ())"
      ],
      "execution_count": 0,
      "outputs": []
    },
    {
      "cell_type": "code",
      "metadata": {
        "id": "8HpZC3mkBYUT",
        "colab_type": "code",
        "colab": {}
      },
      "source": [
        "train_batches = train_data.shuffle(1000).padded_batch(10,\n",
        "                                                      padded_shapes = padded_shapes)"
      ],
      "execution_count": 0,
      "outputs": []
    },
    {
      "cell_type": "code",
      "metadata": {
        "id": "yWJEJ8NJBqtT",
        "colab_type": "code",
        "colab": {}
      },
      "source": [
        "test_batches = test_data.shuffle(1000).padded_batch(10,\n",
        "                                                      padded_shapes = padded_shapes)"
      ],
      "execution_count": 0,
      "outputs": []
    },
    {
      "cell_type": "code",
      "metadata": {
        "id": "jFm1rQr5BvA9",
        "colab_type": "code",
        "colab": {}
      },
      "source": [
        "embedding_dim = 16\n",
        "model = keras.Sequential([\n",
        "                          layers.Embedding(encoder.vocab_size, embedding_dim),\n",
        "                          layers.GlobalAveragePooling1D(),\n",
        "                          layers.Dense(1, activation='sigmoid')])"
      ],
      "execution_count": 0,
      "outputs": []
    },
    {
      "cell_type": "code",
      "metadata": {
        "id": "mtiP_rozCrjF",
        "colab_type": "code",
        "colab": {}
      },
      "source": [
        "model.compile(optimizer = 'adam', loss = 'binary_crossentropy',\n",
        "              metrics = ['acc'])"
      ],
      "execution_count": 0,
      "outputs": []
    },
    {
      "cell_type": "code",
      "metadata": {
        "id": "olnsn2w_ERMn",
        "colab_type": "code",
        "outputId": "3d8d6f43-f4ec-4f6a-a7b0-245179aa0c9b",
        "colab": {
          "base_uri": "https://localhost:8080/",
          "height": 353
        }
      },
      "source": [
        "history = model.fit(train_batches, epochs=10, validation_data = test_batches, validation_steps=20)"
      ],
      "execution_count": 0,
      "outputs": [
        {
          "output_type": "stream",
          "text": [
            "Epoch 1/10\n",
            "2500/2500 [==============================] - 25s 10ms/step - loss: 0.6365 - acc: 0.6820 - val_loss: 0.5499 - val_acc: 0.7700\n",
            "Epoch 2/10\n",
            "2500/2500 [==============================] - 14s 6ms/step - loss: 0.4626 - acc: 0.8399 - val_loss: 0.3939 - val_acc: 0.8600\n",
            "Epoch 3/10\n",
            "2500/2500 [==============================] - 15s 6ms/step - loss: 0.3604 - acc: 0.8794 - val_loss: 0.3619 - val_acc: 0.8650\n",
            "Epoch 4/10\n",
            "2500/2500 [==============================] - 15s 6ms/step - loss: 0.3089 - acc: 0.8961 - val_loss: 0.3529 - val_acc: 0.8800\n",
            "Epoch 5/10\n",
            "2500/2500 [==============================] - 15s 6ms/step - loss: 0.2757 - acc: 0.9074 - val_loss: 0.3576 - val_acc: 0.8550\n",
            "Epoch 6/10\n",
            "2500/2500 [==============================] - 16s 7ms/step - loss: 0.2493 - acc: 0.9161 - val_loss: 0.2945 - val_acc: 0.8800\n",
            "Epoch 7/10\n",
            "2500/2500 [==============================] - 16s 6ms/step - loss: 0.2311 - acc: 0.9226 - val_loss: 0.3068 - val_acc: 0.8550\n",
            "Epoch 8/10\n",
            "2500/2500 [==============================] - 16s 6ms/step - loss: 0.2147 - acc: 0.9284 - val_loss: 0.2192 - val_acc: 0.9200\n",
            "Epoch 9/10\n",
            "2500/2500 [==============================] - 17s 7ms/step - loss: 0.2030 - acc: 0.9328 - val_loss: 0.3101 - val_acc: 0.8550\n",
            "Epoch 10/10\n",
            "2500/2500 [==============================] - 15s 6ms/step - loss: 0.1917 - acc: 0.9386 - val_loss: 0.2914 - val_acc: 0.8950\n"
          ],
          "name": "stdout"
        }
      ]
    },
    {
      "cell_type": "code",
      "metadata": {
        "id": "Z-Xt8j0_Ezk_",
        "colab_type": "code",
        "colab": {}
      },
      "source": [
        "history_dict = history.history\n",
        "acc = history_dict['acc']\n",
        "val_acc = history_dict['val_acc']\n",
        "epochs = range(1,len(acc)+1)"
      ],
      "execution_count": 0,
      "outputs": []
    },
    {
      "cell_type": "code",
      "metadata": {
        "id": "uaV49An2GJAQ",
        "colab_type": "code",
        "outputId": "17691e31-abf4-4187-a998-e00de41140ce",
        "colab": {
          "base_uri": "https://localhost:8080/",
          "height": 556
        }
      },
      "source": [
        "plt.figure(figsize=(12,9))\n",
        "plt.plot(epochs, acc, 'bo', label='Training acc')"
      ],
      "execution_count": 0,
      "outputs": [
        {
          "output_type": "execute_result",
          "data": {
            "text/plain": [
              "[<matplotlib.lines.Line2D at 0x7ff47efc49b0>]"
            ]
          },
          "metadata": {
            "tags": []
          },
          "execution_count": 71
        },
        {
          "output_type": "display_data",
          "data": {
            "image/png": "[encoded data removed]",
            "text/plain": [
              "<Figure size 864x648 with 1 Axes>"
            ]
          },
          "metadata": {
            "tags": []
          }
        }
      ]
    },
    {
      "cell_type": "code",
      "metadata": {
        "id": "W2yq8qFwGbRE",
        "colab_type": "code",
        "outputId": "fa66d3ee-e081-4d28-f446-4554efbe74d6",
        "colab": {
          "base_uri": "https://localhost:8080/",
          "height": 282
        }
      },
      "source": [
        "plt.plot(epochs, val_acc, 'b', label='Validation acc')"
      ],
      "execution_count": 0,
      "outputs": [
        {
          "output_type": "execute_result",
          "data": {
            "text/plain": [
              "[<matplotlib.lines.Line2D at 0x7ff4809ed400>]"
            ]
          },
          "metadata": {
            "tags": []
          },
          "execution_count": 72
        },
        {
          "output_type": "display_data",
          "data": {
            "image/png": "[encoded data removed]",
            "text/plain": [
              "<Figure size 432x288 with 1 Axes>"
            ]
          },
          "metadata": {
            "tags": []
          }
        }
      ]
    },
    {
      "cell_type": "code",
      "metadata": {
        "id": "XKBfH57gGubI",
        "colab_type": "code",
        "outputId": "4e5e8f30-0c96-4e71-a4eb-7cfe8e3fe26a",
        "colab": {
          "base_uri": "https://localhost:8080/",
          "height": 312
        }
      },
      "source": [
        "plt.title('Training and validation accuracy')\n",
        "plt.xlabel('Epochs')\n",
        "plt.ylabel('Accuracy')\n",
        "plt.legend(loc='lower right')\n",
        "plt.ylim((0.5, 1))\n",
        "plt.show()"
      ],
      "execution_count": 0,
      "outputs": [
        {
          "output_type": "stream",
          "text": [
            "WARNING:matplotlib.legend:No handles with labels found to put in legend.\n"
          ],
          "name": "stderr"
        },
        {
          "output_type": "display_data",
          "data": {
            "image/png": "[encoded data removed]",
            "text/plain": [
              "<Figure size 432x288 with 1 Axes>"
            ]
          },
          "metadata": {
            "tags": []
          }
        }
      ]
    },
    {
      "cell_type": "code",
      "metadata": {
        "id": "Cgwgf6gEG3u8",
        "colab_type": "code",
        "colab": {}
      },
      "source": [
        ""
      ],
      "execution_count": 0,
      "outputs": []
    }
  ]
}
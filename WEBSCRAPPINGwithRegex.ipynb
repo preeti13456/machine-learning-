{
  "nbformat": 4,
  "nbformat_minor": 0,
  "metadata": {
    "colab": {
      "name": "WEBSCRAPPING.ipynb",
      "provenance": [],
      "collapsed_sections": [],
      "authorship_tag": "ABX9TyOGWK8FRBYC52FtmuUjfE4i",
      "include_colab_link": true
    },
    "kernelspec": {
      "name": "python3",
      "display_name": "Python 3"
    }
  },
  "cells": [
    {
      "cell_type": "markdown",
      "metadata": {
        "id": "view-in-github",
        "colab_type": "text"
      },
      "source": [
        "<a href=\"https://colab.research.google.com/github/preeti13456/machine-learning-/blob/preeti13456-patch-1/WEBSCRAPPINGwithRegex.ipynb\" target=\"_parent\"><img src=\"https://colab.research.google.com/assets/colab-badge.svg\" alt=\"Open In Colab\"/></a>"
      ]
    },
    {
      "cell_type": "code",
      "metadata": {
        "id": "zSC237nIYxsi",
        "colab_type": "code",
        "colab": {}
      },
      "source": [
        "from urllib import request   #for downloading data to url\n",
        "from bs4 import BeautifulSoup   #support\n",
        "import time\n",
        "import re   #importing regular expression"
      ],
      "execution_count": 0,
      "outputs": []
    },
    {
      "cell_type": "code",
      "metadata": {
        "id": "dm47oYj_Z1G0",
        "colab_type": "code",
        "colab": {}
      },
      "source": [
        "#pointing to url\n",
        "url = \"https://www.tensorflow.org/tutorials/structured_data/imbalanced_data\"\n",
        "url1 = \"https://www.kaggle.com/lihyalan/2020-corona-virus-timeseries\"\n",
        "htmldata = request.urlopen(url1)"
      ],
      "execution_count": 0,
      "outputs": []
    },
    {
      "cell_type": "code",
      "metadata": {
        "id": "yy6CdufVaNQ1",
        "colab_type": "code",
        "colab": {}
      },
      "source": [
        "#htmldata.read()       # it will download data in html format\n",
        "\n",
        "soupdata = BeautifulSoup(htmldata,'html5lib')\n",
        "#html data, #html parser --\n",
        "# What is html parser : collection of htm tages taht can scape data from particualr tag like h1, html, a, p"
      ],
      "execution_count": 0,
      "outputs": []
    },
    {
      "cell_type": "code",
      "metadata": {
        "id": "ObzIGo7vcUtI",
        "colab_type": "code",
        "colab": {
          "base_uri": "https://localhost:8080/",
          "height": 54
        },
        "outputId": "105b6884-e269-4900-b4b7-4d0587e5b0ad"
      },
      "source": [
        "atagdata = soupdata.find_all('meta')   #all the paragraph start tag come\n",
        "print(atagdata)"
      ],
      "execution_count": 43,
      "outputs": [
        {
          "output_type": "stream",
          "text": [
            "[<meta charset=\"utf-8\"/>, <meta content=\"index, follow\" name=\"robots\"/>, <meta content=\"Minute-level Timeseries 2019 Novel Corona Virus datasets with geo coordinates\" name=\"description\"/>, <meta content=\"no-cache\" name=\"turbolinks-cache-control\"/>, <meta content=\"natural and physical sciences,statistics,reference,internet,health,health conditions,geospatial analysis,time series,china \" name=\"keywords\"/>, <meta content=\"width=device-width, initial-scale=1.0, maximum-scale=5.0, minimum-scale=1.0\" name=\"viewport\"/>, <meta content=\"#008ABC\" name=\"theme-color\"/>, <meta content=\"https://kaggle.com/lihyalan/2020-corona-virus-timeseries\" property=\"og:url\"/>, <meta content=\"[CLEAN] COVID-19 Timeseries+Lat/Lon (Active)\" property=\"og:title\"/>, <meta content=\"Minute-level Timeseries 2019 Novel Corona Virus datasets with geo coordinates\" property=\"og:description\"/>, <meta content=\"website\" property=\"og:type\"/>, <meta content=\"https://storage.googleapis.com/kaggle-datasets-images/506472/937704/e2dd44149d0c563468ca3f59b86b7681/dataset-card.png?t=2020-02-09-18-15-05\" property=\"og:image\"/>, <meta content=\"2665027677054710\" property=\"fb:app_id\"/>, <meta content=\"summary\" name=\"twitter:card\"/>, <meta content=\"@kaggledatasets\" name=\"twitter:site\"/>, <meta content=\"@alan_HYli\" name=\"twitter:creator\"/>]\n"
          ],
          "name": "stdout"
        }
      ]
    },
    {
      "cell_type": "code",
      "metadata": {
        "id": "wOPf1IG7czXW",
        "colab_type": "code",
        "colab": {
          "base_uri": "https://localhost:8080/",
          "height": 34
        },
        "outputId": "57849feb-d159-48fc-ddf0-17c1d6948821"
      },
      "source": [
        "#converting data into html format\n",
        "\n",
        "mydata = \"\"\n",
        "for i in atagdata:\n",
        "  mydata+= i.text\n",
        "print(mydata)  \n",
        " "
      ],
      "execution_count": 44,
      "outputs": [
        {
          "output_type": "stream",
          "text": [
            "\n"
          ],
          "name": "stdout"
        }
      ]
    },
    {
      "cell_type": "code",
      "metadata": {
        "id": "l46QVIJYdTF6",
        "colab_type": "code",
        "colab": {
          "base_uri": "https://localhost:8080/",
          "height": 34
        },
        "outputId": "a0a35baf-b55e-489c-9851-36ede0316350"
      },
      "source": [
        "#data cleaning\n",
        "clean_data = re.sub(r'\\[[0-9]* \\ ]','',mydata)  #this will remove 0 or more times  numbers appearing in data\n",
        "clean_data = re.sub(r'\\s+',',',clean_data)              #it will remove a line or more space with single white space\n",
        "clean_data = re.sub(r'[^a-zA-Z]',' ',clean_data)         #it will remove single char from starting of line\n",
        "clean_data = re.sub(r'\\s+',',',clean_data)      \n",
        "clean_data\n",
        "print(type(clean_data))"
      ],
      "execution_count": 50,
      "outputs": [
        {
          "output_type": "stream",
          "text": [
            "<class 'str'>\n"
          ],
          "name": "stdout"
        }
      ]
    },
    {
      "cell_type": "code",
      "metadata": {
        "id": "Tmt7L-XAsAW3",
        "colab_type": "code",
        "colab": {}
      },
      "source": [
        ""
      ],
      "execution_count": 0,
      "outputs": []
    }
  ]
}